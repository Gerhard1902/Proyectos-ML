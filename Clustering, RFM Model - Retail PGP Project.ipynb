{
 "cells": [
  {
   "cell_type": "markdown",
   "id": "6435dfac",
   "metadata": {},
   "source": [
    "##  Problem Statement\n",
    "It is a critical requirement for business to understand the value derived from a customer. RFM is a method used for analyzing customer value.\n",
    "Customer segmentation is the practice of segregating the customer base into groups of individuals based on some common characteristics such as age, gender, interests, and spending habits\n",
    "\n",
    "Perform customer segmentation using RFM analysis. The resulting segments can be ordered from most valuable (highest recency, frequency, and value) to least valuable (lowest recency, frequency, and value).\n",
    "\n",
    "Dataset Description\n",
    "This is a transnational data set which contains all the transactions that occurred between 01/12/2010 and 09/12/2011 for a UK-based and registered non-store online retail. The company mainly sells unique and all-occasion gifts."
   ]
  },
  {
   "cell_type": "code",
   "execution_count": 1,
   "id": "9414d2da",
   "metadata": {},
   "outputs": [],
   "source": [
    "#Importing pandas & numpy libraries\n",
    "import pandas as pd\n",
    "import numpy as np\n",
    "import datetime\n",
    "import matplotlib.pyplot as plt\n",
    "import seaborn as sns\n",
    "import warnings \n",
    "warnings.filterwarnings('ignore')"
   ]
  },
  {
   "cell_type": "code",
   "execution_count": 2,
   "id": "5fc2c53d",
   "metadata": {},
   "outputs": [],
   "source": [
    "#Importing Data set\n",
    "trainDF = pd.read_excel('train.xlsx')\n",
    "trainDF=pd.DataFrame(trainDF)"
   ]
  },
  {
   "cell_type": "markdown",
   "id": "0d3cceff",
   "metadata": {},
   "source": [
    "## Data Cleaning:\n",
    "\n",
    "## 1. Perform a preliminary data inspection and data cleaning.\n",
    "## a. Check for missing data and formulate an apt strategy to treat them.\n"
   ]
  },
  {
   "cell_type": "code",
   "execution_count": 3,
   "id": "b1dc2638",
   "metadata": {},
   "outputs": [
    {
     "data": {
      "text/html": [
       "<div>\n",
       "<style scoped>\n",
       "    .dataframe tbody tr th:only-of-type {\n",
       "        vertical-align: middle;\n",
       "    }\n",
       "\n",
       "    .dataframe tbody tr th {\n",
       "        vertical-align: top;\n",
       "    }\n",
       "\n",
       "    .dataframe thead th {\n",
       "        text-align: right;\n",
       "    }\n",
       "</style>\n",
       "<table border=\"1\" class=\"dataframe\">\n",
       "  <thead>\n",
       "    <tr style=\"text-align: right;\">\n",
       "      <th></th>\n",
       "      <th>InvoiceNo</th>\n",
       "      <th>StockCode</th>\n",
       "      <th>Description</th>\n",
       "      <th>Quantity</th>\n",
       "      <th>InvoiceDate</th>\n",
       "      <th>UnitPrice</th>\n",
       "      <th>CustomerID</th>\n",
       "      <th>Country</th>\n",
       "    </tr>\n",
       "  </thead>\n",
       "  <tbody>\n",
       "    <tr>\n",
       "      <th>0</th>\n",
       "      <td>558904</td>\n",
       "      <td>22292</td>\n",
       "      <td>HANGING CHICK  YELLOW DECORATION</td>\n",
       "      <td>1</td>\n",
       "      <td>2011-07-04 16:18:00</td>\n",
       "      <td>1.25</td>\n",
       "      <td>NaN</td>\n",
       "      <td>United Kingdom</td>\n",
       "    </tr>\n",
       "    <tr>\n",
       "      <th>1</th>\n",
       "      <td>556072</td>\n",
       "      <td>20970</td>\n",
       "      <td>PINK FLORAL FELTCRAFT SHOULDER BAG</td>\n",
       "      <td>8</td>\n",
       "      <td>2011-06-08 14:57:00</td>\n",
       "      <td>3.75</td>\n",
       "      <td>16126.0</td>\n",
       "      <td>United Kingdom</td>\n",
       "    </tr>\n",
       "    <tr>\n",
       "      <th>2</th>\n",
       "      <td>551739</td>\n",
       "      <td>21559</td>\n",
       "      <td>STRAWBERRY LUNCH BOX WITH CUTLERY</td>\n",
       "      <td>2</td>\n",
       "      <td>2011-05-04 10:58:00</td>\n",
       "      <td>2.55</td>\n",
       "      <td>18118.0</td>\n",
       "      <td>United Kingdom</td>\n",
       "    </tr>\n",
       "    <tr>\n",
       "      <th>3</th>\n",
       "      <td>541658</td>\n",
       "      <td>21988</td>\n",
       "      <td>PACK OF 6 SKULL PAPER PLATES</td>\n",
       "      <td>1</td>\n",
       "      <td>2011-01-20 12:16:00</td>\n",
       "      <td>0.85</td>\n",
       "      <td>15529.0</td>\n",
       "      <td>United Kingdom</td>\n",
       "    </tr>\n",
       "    <tr>\n",
       "      <th>4</th>\n",
       "      <td>538364</td>\n",
       "      <td>85099C</td>\n",
       "      <td>JUMBO  BAG BAROQUE BLACK WHITE</td>\n",
       "      <td>10</td>\n",
       "      <td>2010-12-10 17:26:00</td>\n",
       "      <td>1.95</td>\n",
       "      <td>14448.0</td>\n",
       "      <td>United Kingdom</td>\n",
       "    </tr>\n",
       "  </tbody>\n",
       "</table>\n",
       "</div>"
      ],
      "text/plain": [
       "  InvoiceNo StockCode                         Description  Quantity  \\\n",
       "0    558904     22292    HANGING CHICK  YELLOW DECORATION         1   \n",
       "1    556072     20970  PINK FLORAL FELTCRAFT SHOULDER BAG         8   \n",
       "2    551739     21559   STRAWBERRY LUNCH BOX WITH CUTLERY         2   \n",
       "3    541658     21988        PACK OF 6 SKULL PAPER PLATES         1   \n",
       "4    538364    85099C      JUMBO  BAG BAROQUE BLACK WHITE        10   \n",
       "\n",
       "          InvoiceDate  UnitPrice  CustomerID         Country  \n",
       "0 2011-07-04 16:18:00       1.25         NaN  United Kingdom  \n",
       "1 2011-06-08 14:57:00       3.75     16126.0  United Kingdom  \n",
       "2 2011-05-04 10:58:00       2.55     18118.0  United Kingdom  \n",
       "3 2011-01-20 12:16:00       0.85     15529.0  United Kingdom  \n",
       "4 2010-12-10 17:26:00       1.95     14448.0  United Kingdom  "
      ]
     },
     "execution_count": 3,
     "metadata": {},
     "output_type": "execute_result"
    }
   ],
   "source": [
    "#Inspecting the first 5 records\n",
    "trainDF.head()"
   ]
  },
  {
   "cell_type": "code",
   "execution_count": 4,
   "id": "991b9ff4",
   "metadata": {
    "scrolled": true
   },
   "outputs": [
    {
     "data": {
      "text/plain": [
       "InvoiceNo          0\n",
       "StockCode          0\n",
       "Description      963\n",
       "Quantity           0\n",
       "InvoiceDate        0\n",
       "UnitPrice          0\n",
       "CustomerID     94260\n",
       "Country            0\n",
       "dtype: int64"
      ]
     },
     "execution_count": 4,
     "metadata": {},
     "output_type": "execute_result"
    }
   ],
   "source": [
    "# It is possible to appretiate that Description and Customer Id are the only fields with null values\n",
    "trainDF.isnull().sum()"
   ]
  },
  {
   "cell_type": "code",
   "execution_count": 5,
   "id": "14ccc78b",
   "metadata": {},
   "outputs": [
    {
     "name": "stdout",
     "output_type": "stream",
     "text": [
      "<class 'pandas.core.frame.DataFrame'>\n",
      "RangeIndex: 379336 entries, 0 to 379335\n",
      "Data columns (total 8 columns):\n",
      " #   Column       Non-Null Count   Dtype         \n",
      "---  ------       --------------   -----         \n",
      " 0   InvoiceNo    379336 non-null  object        \n",
      " 1   StockCode    379336 non-null  object        \n",
      " 2   Description  378373 non-null  object        \n",
      " 3   Quantity     379336 non-null  int64         \n",
      " 4   InvoiceDate  379336 non-null  datetime64[ns]\n",
      " 5   UnitPrice    379336 non-null  float64       \n",
      " 6   CustomerID   285076 non-null  float64       \n",
      " 7   Country      379336 non-null  object        \n",
      "dtypes: datetime64[ns](1), float64(2), int64(1), object(4)\n",
      "memory usage: 23.2+ MB\n"
     ]
    }
   ],
   "source": [
    "#inspecting number of records in each column and data types\n",
    "trainDF.info()"
   ]
  },
  {
   "cell_type": "code",
   "execution_count": 6,
   "id": "3e71b394",
   "metadata": {},
   "outputs": [],
   "source": [
    "#\"Description\" field does not provide any additional information for the RFM model regarding a customer (recency, frequency, \n",
    "# or monetary value). This field wil be kept in order to be used for insights in week 3\n",
    "\n",
    "#Customer ID as numerical value, cannot be filled using mean or median, so N/A values wll be discarded to proceed with further\n",
    "#existing customer analysis\n",
    "trainDF= trainDF.dropna()"
   ]
  },
  {
   "cell_type": "code",
   "execution_count": 7,
   "id": "90dff249",
   "metadata": {},
   "outputs": [
    {
     "data": {
      "text/plain": [
       "(285076, 8)"
      ]
     },
     "execution_count": 7,
     "metadata": {},
     "output_type": "execute_result"
    }
   ],
   "source": [
    "#It is possible to see that shape was decreased\n",
    "trainDF.shape"
   ]
  },
  {
   "cell_type": "markdown",
   "id": "d04c1f54",
   "metadata": {},
   "source": [
    "## b. Remove duplicate data records."
   ]
  },
  {
   "cell_type": "code",
   "execution_count": 8,
   "id": "9c76ae05",
   "metadata": {},
   "outputs": [],
   "source": [
    "trainDF=trainDF.drop_duplicates()"
   ]
  },
  {
   "cell_type": "markdown",
   "id": "b58d830e",
   "metadata": {},
   "source": [
    "## c. Perform descriptive analytics on the given data."
   ]
  },
  {
   "cell_type": "code",
   "execution_count": 9,
   "id": "0a064f45",
   "metadata": {},
   "outputs": [
    {
     "data": {
      "text/html": [
       "<div>\n",
       "<style scoped>\n",
       "    .dataframe tbody tr th:only-of-type {\n",
       "        vertical-align: middle;\n",
       "    }\n",
       "\n",
       "    .dataframe tbody tr th {\n",
       "        vertical-align: top;\n",
       "    }\n",
       "\n",
       "    .dataframe thead th {\n",
       "        text-align: right;\n",
       "    }\n",
       "</style>\n",
       "<table border=\"1\" class=\"dataframe\">\n",
       "  <thead>\n",
       "    <tr style=\"text-align: right;\">\n",
       "      <th></th>\n",
       "      <th>Quantity</th>\n",
       "      <th>UnitPrice</th>\n",
       "      <th>CustomerID</th>\n",
       "    </tr>\n",
       "  </thead>\n",
       "  <tbody>\n",
       "    <tr>\n",
       "      <th>count</th>\n",
       "      <td>282420.000000</td>\n",
       "      <td>282420.000000</td>\n",
       "      <td>282420.000000</td>\n",
       "    </tr>\n",
       "    <tr>\n",
       "      <th>mean</th>\n",
       "      <td>12.110283</td>\n",
       "      <td>3.526323</td>\n",
       "      <td>15283.894880</td>\n",
       "    </tr>\n",
       "    <tr>\n",
       "      <th>std</th>\n",
       "      <td>297.109127</td>\n",
       "      <td>80.691250</td>\n",
       "      <td>1712.665383</td>\n",
       "    </tr>\n",
       "    <tr>\n",
       "      <th>min</th>\n",
       "      <td>-80995.000000</td>\n",
       "      <td>0.000000</td>\n",
       "      <td>12346.000000</td>\n",
       "    </tr>\n",
       "    <tr>\n",
       "      <th>25%</th>\n",
       "      <td>2.000000</td>\n",
       "      <td>1.250000</td>\n",
       "      <td>13952.000000</td>\n",
       "    </tr>\n",
       "    <tr>\n",
       "      <th>50%</th>\n",
       "      <td>5.000000</td>\n",
       "      <td>1.950000</td>\n",
       "      <td>15150.000000</td>\n",
       "    </tr>\n",
       "    <tr>\n",
       "      <th>75%</th>\n",
       "      <td>12.000000</td>\n",
       "      <td>3.750000</td>\n",
       "      <td>16788.000000</td>\n",
       "    </tr>\n",
       "    <tr>\n",
       "      <th>max</th>\n",
       "      <td>80995.000000</td>\n",
       "      <td>38970.000000</td>\n",
       "      <td>18287.000000</td>\n",
       "    </tr>\n",
       "  </tbody>\n",
       "</table>\n",
       "</div>"
      ],
      "text/plain": [
       "            Quantity      UnitPrice     CustomerID\n",
       "count  282420.000000  282420.000000  282420.000000\n",
       "mean       12.110283       3.526323   15283.894880\n",
       "std       297.109127      80.691250    1712.665383\n",
       "min    -80995.000000       0.000000   12346.000000\n",
       "25%         2.000000       1.250000   13952.000000\n",
       "50%         5.000000       1.950000   15150.000000\n",
       "75%        12.000000       3.750000   16788.000000\n",
       "max     80995.000000   38970.000000   18287.000000"
      ]
     },
     "execution_count": 9,
     "metadata": {},
     "output_type": "execute_result"
    }
   ],
   "source": [
    "#describe funcion will be used to identify number of entries, and descriptive analytics regarding mean, \n",
    "#standard deviation, minimum, maximum values, and quartile identification\n",
    "trainDF.describe()"
   ]
  },
  {
   "cell_type": "markdown",
   "id": "174bb7b7",
   "metadata": {},
   "source": [
    "## Data Transformation:\n",
    "\n",
    "## 2. Perform cohort analysis (a cohort is a group of subjects that share a defining characteristic). Observe how a cohort behaves across time and compare it to other cohorts.\n",
    "\n",
    "## a. Create month cohorts and analyze active customers for each cohort.\n",
    "\n",
    "(cohort will be segregated based on customers who joined and stopped buying each month, analysis will be presented with retention rate per month in next step)"
   ]
  },
  {
   "cell_type": "code",
   "execution_count": 10,
   "id": "73207bc2",
   "metadata": {},
   "outputs": [],
   "source": [
    "#Converting datatime column \"InvoiceDate\" to get year and month\n",
    "trainDF['month value'] = trainDF['InvoiceDate'].dt.to_period('M')\n",
    "#Sorting values using Invoice Date\n",
    "trainDF= trainDF.sort_values(by=['InvoiceDate']).reset_index()"
   ]
  },
  {
   "cell_type": "code",
   "execution_count": 12,
   "id": "85c11da1",
   "metadata": {},
   "outputs": [
    {
     "data": {
      "text/html": [
       "<div>\n",
       "<style scoped>\n",
       "    .dataframe tbody tr th:only-of-type {\n",
       "        vertical-align: middle;\n",
       "    }\n",
       "\n",
       "    .dataframe tbody tr th {\n",
       "        vertical-align: top;\n",
       "    }\n",
       "\n",
       "    .dataframe thead th {\n",
       "        text-align: right;\n",
       "    }\n",
       "</style>\n",
       "<table border=\"1\" class=\"dataframe\">\n",
       "  <thead>\n",
       "    <tr style=\"text-align: right;\">\n",
       "      <th></th>\n",
       "      <th>CustomerID</th>\n",
       "      <th>Join Date</th>\n",
       "      <th>Departure Date</th>\n",
       "    </tr>\n",
       "  </thead>\n",
       "  <tbody>\n",
       "    <tr>\n",
       "      <th>0</th>\n",
       "      <td>12346.0</td>\n",
       "      <td>2011-01</td>\n",
       "      <td>2011-01</td>\n",
       "    </tr>\n",
       "    <tr>\n",
       "      <th>1</th>\n",
       "      <td>12347.0</td>\n",
       "      <td>2010-12</td>\n",
       "      <td>2011-12</td>\n",
       "    </tr>\n",
       "    <tr>\n",
       "      <th>2</th>\n",
       "      <td>12348.0</td>\n",
       "      <td>2010-12</td>\n",
       "      <td>2011-09</td>\n",
       "    </tr>\n",
       "    <tr>\n",
       "      <th>3</th>\n",
       "      <td>12349.0</td>\n",
       "      <td>2011-11</td>\n",
       "      <td>2011-11</td>\n",
       "    </tr>\n",
       "    <tr>\n",
       "      <th>4</th>\n",
       "      <td>12350.0</td>\n",
       "      <td>2011-02</td>\n",
       "      <td>2011-02</td>\n",
       "    </tr>\n",
       "  </tbody>\n",
       "</table>\n",
       "</div>"
      ],
      "text/plain": [
       "   CustomerID Join Date Departure Date\n",
       "0     12346.0   2011-01        2011-01\n",
       "1     12347.0   2010-12        2011-12\n",
       "2     12348.0   2010-12        2011-09\n",
       "3     12349.0   2011-11        2011-11\n",
       "4     12350.0   2011-02        2011-02"
      ]
     },
     "execution_count": 12,
     "metadata": {},
     "output_type": "execute_result"
    }
   ],
   "source": [
    "#Getting unique list of customers by first date where they appeared in the list and theirlast date\n",
    "\n",
    "min_df=pd.DataFrame(trainDF.groupby(\"CustomerID\", as_index=False)[\"month value\"].min())\n",
    "max_df=pd.DataFrame(trainDF.groupby(\"CustomerID\", as_index=False)[\"month value\"].max())\n",
    "join_Dates = pd.merge(min_df, max_df, on='CustomerID')\n",
    "join_Dates= join_Dates.rename(columns = {\"month value_x\": \"Join Date\", \"month value_y\": \"Departure Date\"}, inplace = False)\n",
    "join_Dates.head()"
   ]
  },
  {
   "cell_type": "code",
   "execution_count": 13,
   "id": "8209598c",
   "metadata": {},
   "outputs": [
    {
     "data": {
      "text/html": [
       "<div>\n",
       "<style scoped>\n",
       "    .dataframe tbody tr th:only-of-type {\n",
       "        vertical-align: middle;\n",
       "    }\n",
       "\n",
       "    .dataframe tbody tr th {\n",
       "        vertical-align: top;\n",
       "    }\n",
       "\n",
       "    .dataframe thead th {\n",
       "        text-align: right;\n",
       "    }\n",
       "</style>\n",
       "<table border=\"1\" class=\"dataframe\">\n",
       "  <thead>\n",
       "    <tr style=\"text-align: right;\">\n",
       "      <th></th>\n",
       "      <th>Join Date</th>\n",
       "      <th>CustomerID_x</th>\n",
       "      <th>Departure Date</th>\n",
       "      <th>CustomerID_y</th>\n",
       "    </tr>\n",
       "    <tr>\n",
       "      <th>index</th>\n",
       "      <th></th>\n",
       "      <th></th>\n",
       "      <th></th>\n",
       "      <th></th>\n",
       "    </tr>\n",
       "  </thead>\n",
       "  <tbody>\n",
       "    <tr>\n",
       "      <th>0</th>\n",
       "      <td>2010-12</td>\n",
       "      <td>929</td>\n",
       "      <td>2010-12</td>\n",
       "      <td>131</td>\n",
       "    </tr>\n",
       "    <tr>\n",
       "      <th>1</th>\n",
       "      <td>2011-01</td>\n",
       "      <td>422</td>\n",
       "      <td>2011-01</td>\n",
       "      <td>99</td>\n",
       "    </tr>\n",
       "    <tr>\n",
       "      <th>2</th>\n",
       "      <td>2011-02</td>\n",
       "      <td>377</td>\n",
       "      <td>2011-02</td>\n",
       "      <td>105</td>\n",
       "    </tr>\n",
       "    <tr>\n",
       "      <th>3</th>\n",
       "      <td>2011-03</td>\n",
       "      <td>441</td>\n",
       "      <td>2011-03</td>\n",
       "      <td>164</td>\n",
       "    </tr>\n",
       "    <tr>\n",
       "      <th>4</th>\n",
       "      <td>2011-04</td>\n",
       "      <td>298</td>\n",
       "      <td>2011-04</td>\n",
       "      <td>138</td>\n",
       "    </tr>\n",
       "  </tbody>\n",
       "</table>\n",
       "</div>"
      ],
      "text/plain": [
       "      Join Date  CustomerID_x Departure Date  CustomerID_y\n",
       "index                                                     \n",
       "0       2010-12           929        2010-12           131\n",
       "1       2011-01           422        2011-01            99\n",
       "2       2011-02           377        2011-02           105\n",
       "3       2011-03           441        2011-03           164\n",
       "4       2011-04           298        2011-04           138"
      ]
     },
     "execution_count": 13,
     "metadata": {},
     "output_type": "execute_result"
    }
   ],
   "source": [
    "#Grouping customers analizing how many of them joined and left on a monthly basis\n",
    "count_df=pd.DataFrame(trainDF.groupby(\"month value\", as_index=False)[\"CustomerID\"].count())\n",
    "join_=join_Dates.groupby(\"Join Date\", as_index=False)[\"CustomerID\"].count().rename_axis([\"index\"])\n",
    "departure_=join_Dates.groupby(\"Departure Date\", as_index=False)[\"CustomerID\"].count().rename_axis([\"index\"])\n",
    "dates_ = pd.merge(join_, departure_, on=\"index\")\n",
    "dates_.head()"
   ]
  },
  {
   "cell_type": "markdown",
   "id": "aab3b3d0",
   "metadata": {},
   "source": [
    "## b. Analyze the retention rate of customers."
   ]
  },
  {
   "cell_type": "markdown",
   "id": "243f66e5",
   "metadata": {},
   "source": [
    "## **Retention Rate**\n",
    "\n",
    "\n",
    "To calculate retention rate, the following formula will be used:\n",
    "\n",
    "**Retention Rate**= [ (Customers of the end of the month) - (Customers aquired during the period) ] / (Customers the start of the month) * 100\n",
    "\n",
    "For example, we have the following info in order to analyze february:\n",
    "\n",
    "_# of customers at the start =929(customers aquired in january)-131 (customers lost in january)= 798\n",
    "\n",
    "_# of customers at the end of february=798(customers in january)+422(customers aquired in Feb)-99(customers lost in february)=1121\n",
    "\n",
    "Retention Rate= (1121 - 422) / 798 *100\n",
    "Retention Rate=87.59"
   ]
  },
  {
   "cell_type": "code",
   "execution_count": 14,
   "id": "e11ce61e",
   "metadata": {},
   "outputs": [],
   "source": [
    "\n",
    "dates_[\"Cummulative joins\"]=dates_[\"CustomerID_x\"].cumsum()\n",
    "dates_[\"Cummulative departures\"]=dates_[\"CustomerID_y\"].cumsum()\n",
    "dates_[\"At the start\"]=(dates_[\"Cummulative joins\"]-dates_[\"Cummulative departures\"]).shift(1)\n",
    "dates_[\"At the end\"]=(dates_[\"Cummulative joins\"]-dates_[\"Cummulative departures\"])\n",
    "dates_[\"Retention Rate\"]=((dates_[\"At the end\"] - dates_[\"CustomerID_x\"])/dates_[\"At the start\"]*100).round(2)\n",
    "dates_= dates_.rename(columns = {\"CustomerID_x\": \"# of Acquired customers\", \"CustomerID_y\": \"# of lost customers\"}, inplace = False)"
   ]
  },
  {
   "cell_type": "code",
   "execution_count": 15,
   "id": "3d85d7d9",
   "metadata": {},
   "outputs": [
    {
     "data": {
      "text/html": [
       "<div>\n",
       "<style scoped>\n",
       "    .dataframe tbody tr th:only-of-type {\n",
       "        vertical-align: middle;\n",
       "    }\n",
       "\n",
       "    .dataframe tbody tr th {\n",
       "        vertical-align: top;\n",
       "    }\n",
       "\n",
       "    .dataframe thead th {\n",
       "        text-align: right;\n",
       "    }\n",
       "</style>\n",
       "<table border=\"1\" class=\"dataframe\">\n",
       "  <thead>\n",
       "    <tr style=\"text-align: right;\">\n",
       "      <th></th>\n",
       "      <th>Join Date</th>\n",
       "      <th># of Acquired customers</th>\n",
       "      <th>Departure Date</th>\n",
       "      <th># of lost customers</th>\n",
       "      <th>Cummulative joins</th>\n",
       "      <th>Cummulative departures</th>\n",
       "      <th>At the start</th>\n",
       "      <th>At the end</th>\n",
       "      <th>Retention Rate</th>\n",
       "    </tr>\n",
       "    <tr>\n",
       "      <th>index</th>\n",
       "      <th></th>\n",
       "      <th></th>\n",
       "      <th></th>\n",
       "      <th></th>\n",
       "      <th></th>\n",
       "      <th></th>\n",
       "      <th></th>\n",
       "      <th></th>\n",
       "      <th></th>\n",
       "    </tr>\n",
       "  </thead>\n",
       "  <tbody>\n",
       "    <tr>\n",
       "      <th>0</th>\n",
       "      <td>2010-12</td>\n",
       "      <td>929</td>\n",
       "      <td>2010-12</td>\n",
       "      <td>131</td>\n",
       "      <td>929</td>\n",
       "      <td>131</td>\n",
       "      <td>NaN</td>\n",
       "      <td>798</td>\n",
       "      <td>NaN</td>\n",
       "    </tr>\n",
       "    <tr>\n",
       "      <th>1</th>\n",
       "      <td>2011-01</td>\n",
       "      <td>422</td>\n",
       "      <td>2011-01</td>\n",
       "      <td>99</td>\n",
       "      <td>1351</td>\n",
       "      <td>230</td>\n",
       "      <td>798.0</td>\n",
       "      <td>1121</td>\n",
       "      <td>87.59</td>\n",
       "    </tr>\n",
       "    <tr>\n",
       "      <th>2</th>\n",
       "      <td>2011-02</td>\n",
       "      <td>377</td>\n",
       "      <td>2011-02</td>\n",
       "      <td>105</td>\n",
       "      <td>1728</td>\n",
       "      <td>335</td>\n",
       "      <td>1121.0</td>\n",
       "      <td>1393</td>\n",
       "      <td>90.63</td>\n",
       "    </tr>\n",
       "    <tr>\n",
       "      <th>3</th>\n",
       "      <td>2011-03</td>\n",
       "      <td>441</td>\n",
       "      <td>2011-03</td>\n",
       "      <td>164</td>\n",
       "      <td>2169</td>\n",
       "      <td>499</td>\n",
       "      <td>1393.0</td>\n",
       "      <td>1670</td>\n",
       "      <td>88.23</td>\n",
       "    </tr>\n",
       "    <tr>\n",
       "      <th>4</th>\n",
       "      <td>2011-04</td>\n",
       "      <td>298</td>\n",
       "      <td>2011-04</td>\n",
       "      <td>138</td>\n",
       "      <td>2467</td>\n",
       "      <td>637</td>\n",
       "      <td>1670.0</td>\n",
       "      <td>1830</td>\n",
       "      <td>91.74</td>\n",
       "    </tr>\n",
       "    <tr>\n",
       "      <th>5</th>\n",
       "      <td>2011-05</td>\n",
       "      <td>278</td>\n",
       "      <td>2011-05</td>\n",
       "      <td>164</td>\n",
       "      <td>2745</td>\n",
       "      <td>801</td>\n",
       "      <td>1830.0</td>\n",
       "      <td>1944</td>\n",
       "      <td>91.04</td>\n",
       "    </tr>\n",
       "    <tr>\n",
       "      <th>6</th>\n",
       "      <td>2011-06</td>\n",
       "      <td>238</td>\n",
       "      <td>2011-06</td>\n",
       "      <td>180</td>\n",
       "      <td>2983</td>\n",
       "      <td>981</td>\n",
       "      <td>1944.0</td>\n",
       "      <td>2002</td>\n",
       "      <td>90.74</td>\n",
       "    </tr>\n",
       "    <tr>\n",
       "      <th>7</th>\n",
       "      <td>2011-07</td>\n",
       "      <td>192</td>\n",
       "      <td>2011-07</td>\n",
       "      <td>186</td>\n",
       "      <td>3175</td>\n",
       "      <td>1167</td>\n",
       "      <td>2002.0</td>\n",
       "      <td>2008</td>\n",
       "      <td>90.71</td>\n",
       "    </tr>\n",
       "    <tr>\n",
       "      <th>8</th>\n",
       "      <td>2011-08</td>\n",
       "      <td>166</td>\n",
       "      <td>2011-08</td>\n",
       "      <td>214</td>\n",
       "      <td>3341</td>\n",
       "      <td>1381</td>\n",
       "      <td>2008.0</td>\n",
       "      <td>1960</td>\n",
       "      <td>89.34</td>\n",
       "    </tr>\n",
       "    <tr>\n",
       "      <th>9</th>\n",
       "      <td>2011-09</td>\n",
       "      <td>298</td>\n",
       "      <td>2011-09</td>\n",
       "      <td>384</td>\n",
       "      <td>3639</td>\n",
       "      <td>1765</td>\n",
       "      <td>1960.0</td>\n",
       "      <td>1874</td>\n",
       "      <td>80.41</td>\n",
       "    </tr>\n",
       "    <tr>\n",
       "      <th>10</th>\n",
       "      <td>2011-10</td>\n",
       "      <td>352</td>\n",
       "      <td>2011-10</td>\n",
       "      <td>648</td>\n",
       "      <td>3991</td>\n",
       "      <td>2413</td>\n",
       "      <td>1874.0</td>\n",
       "      <td>1578</td>\n",
       "      <td>65.42</td>\n",
       "    </tr>\n",
       "    <tr>\n",
       "      <th>11</th>\n",
       "      <td>2011-11</td>\n",
       "      <td>323</td>\n",
       "      <td>2011-11</td>\n",
       "      <td>1277</td>\n",
       "      <td>4314</td>\n",
       "      <td>3690</td>\n",
       "      <td>1578.0</td>\n",
       "      <td>624</td>\n",
       "      <td>19.07</td>\n",
       "    </tr>\n",
       "    <tr>\n",
       "      <th>12</th>\n",
       "      <td>2011-12</td>\n",
       "      <td>39</td>\n",
       "      <td>2011-12</td>\n",
       "      <td>663</td>\n",
       "      <td>4353</td>\n",
       "      <td>4353</td>\n",
       "      <td>624.0</td>\n",
       "      <td>0</td>\n",
       "      <td>-6.25</td>\n",
       "    </tr>\n",
       "  </tbody>\n",
       "</table>\n",
       "</div>"
      ],
      "text/plain": [
       "      Join Date  # of Acquired customers Departure Date  # of lost customers  \\\n",
       "index                                                                          \n",
       "0       2010-12                      929        2010-12                  131   \n",
       "1       2011-01                      422        2011-01                   99   \n",
       "2       2011-02                      377        2011-02                  105   \n",
       "3       2011-03                      441        2011-03                  164   \n",
       "4       2011-04                      298        2011-04                  138   \n",
       "5       2011-05                      278        2011-05                  164   \n",
       "6       2011-06                      238        2011-06                  180   \n",
       "7       2011-07                      192        2011-07                  186   \n",
       "8       2011-08                      166        2011-08                  214   \n",
       "9       2011-09                      298        2011-09                  384   \n",
       "10      2011-10                      352        2011-10                  648   \n",
       "11      2011-11                      323        2011-11                 1277   \n",
       "12      2011-12                       39        2011-12                  663   \n",
       "\n",
       "       Cummulative joins  Cummulative departures  At the start  At the end  \\\n",
       "index                                                                        \n",
       "0                    929                     131           NaN         798   \n",
       "1                   1351                     230         798.0        1121   \n",
       "2                   1728                     335        1121.0        1393   \n",
       "3                   2169                     499        1393.0        1670   \n",
       "4                   2467                     637        1670.0        1830   \n",
       "5                   2745                     801        1830.0        1944   \n",
       "6                   2983                     981        1944.0        2002   \n",
       "7                   3175                    1167        2002.0        2008   \n",
       "8                   3341                    1381        2008.0        1960   \n",
       "9                   3639                    1765        1960.0        1874   \n",
       "10                  3991                    2413        1874.0        1578   \n",
       "11                  4314                    3690        1578.0         624   \n",
       "12                  4353                    4353         624.0           0   \n",
       "\n",
       "       Retention Rate  \n",
       "index                  \n",
       "0                 NaN  \n",
       "1               87.59  \n",
       "2               90.63  \n",
       "3               88.23  \n",
       "4               91.74  \n",
       "5               91.04  \n",
       "6               90.74  \n",
       "7               90.71  \n",
       "8               89.34  \n",
       "9               80.41  \n",
       "10              65.42  \n",
       "11              19.07  \n",
       "12              -6.25  "
      ]
     },
     "execution_count": 15,
     "metadata": {},
     "output_type": "execute_result"
    }
   ],
   "source": [
    "dates_"
   ]
  },
  {
   "cell_type": "code",
   "execution_count": 16,
   "id": "ef960e51",
   "metadata": {},
   "outputs": [],
   "source": [
    "#Row 12 will be discarded because it requires the following month in order to analize it. \n",
    "#people whose last purchase was on december 2011 are not lost customers.\n",
    "dates_.drop([12], axis=0, inplace=True)"
   ]
  },
  {
   "cell_type": "code",
   "execution_count": 17,
   "id": "e462218d",
   "metadata": {},
   "outputs": [],
   "source": [
    "#Converting month value 1-12 to Month name, in order to be easy to understad for the client\n",
    "def get_month_value (value):\n",
    "     return str(value.year) + \" - \" + str(datetime.datetime.strptime(str(value.month), \"%m\").strftime(\"%B\"))\n",
    "dates_[\"Month Name\"]=dates_[\"Join Date\"].apply(get_month_value)"
   ]
  },
  {
   "cell_type": "code",
   "execution_count": 18,
   "id": "b5a7e351",
   "metadata": {},
   "outputs": [
    {
     "data": {
      "text/plain": [
       "Text(0.5, 0, 'Retention rate value')"
      ]
     },
     "execution_count": 18,
     "metadata": {},
     "output_type": "execute_result"
    },
    {
     "data": {
      "image/png": "[encoded data removed]",
      "text/plain": [
       "<Figure size 432x288 with 1 Axes>"
      ]
     },
     "metadata": {
      "needs_background": "light"
     },
     "output_type": "display_data"
    }
   ],
   "source": [
    "plt.barh(dates_[\"Month Name\"], dates_[\"Retention Rate\"], color='#FFCC99')\n",
    "plt.title(\"Retention rate per month\")\n",
    "plt.ylabel(\"Year - month\")\n",
    "plt.xlabel(\"Retention rate value\")"
   ]
  },
  {
   "cell_type": "markdown",
   "id": "e62de93c",
   "metadata": {},
   "source": [
    "## Project Task: Week 2\n",
    "Data Modeling :\n",
    "\n",
    "1. Build a RFM (Recency Frequency Monetary) model. \n",
    "\n",
    "- Recency means the number of days since a customer made the last purchase. \n",
    "- Frequency is the number of purchase in a given period. It could be 3 months, 6 months or 1 year. \n",
    "- Monetary is the total amount of money a customer spent in that given period. \n",
    "\n",
    "Therefore, big spenders will be differentiated among other customers such as MVP (Minimum Viable Product) or VIP.\n",
    "\n",
    "2. Calculate RFM metrics."
   ]
  },
  {
   "cell_type": "code",
   "execution_count": 19,
   "id": "6b429834",
   "metadata": {},
   "outputs": [],
   "source": [
    "#calculating amount field\n",
    "trainDF[\"Amount\"]=trainDF[\"Quantity\"]*trainDF[\"UnitPrice\"]"
   ]
  },
  {
   "cell_type": "code",
   "execution_count": 20,
   "id": "e64e1769",
   "metadata": {},
   "outputs": [
    {
     "data": {
      "text/plain": [
       "Timestamp('2011-12-09 12:50:00')"
      ]
     },
     "execution_count": 20,
     "metadata": {},
     "output_type": "execute_result"
    }
   ],
   "source": [
    "#Veryfing max invoice date\n",
    "trainDF[\"InvoiceDate\"].max()"
   ]
  },
  {
   "cell_type": "code",
   "execution_count": 21,
   "id": "3f2cdff8",
   "metadata": {},
   "outputs": [],
   "source": [
    "#RFM Model: recency = number of days after the customer´s last registered purchase\n",
    "#frequency - how many times the customer bought during the year\n",
    "#Monetary= total amount a customer bought in the year\n",
    "RFM_Model= pd.DataFrame(trainDF.groupby(\"CustomerID\", as_index=False).agg({\n",
    "        \"InvoiceDate\": lambda d:(pd.to_datetime(\"2011-12-10\") - d.max() ).days,\n",
    "        \"InvoiceNo\": \"count\",\n",
    "        \"Amount\": \"sum\"}))\n",
    "RFM_Model= RFM_Model.rename(columns = {\"InvoiceNo\": \"Frequency\", \"InvoiceDate\": \"Recency\", \"Amount\":\"Monetary\"}, inplace = False)"
   ]
  },
  {
   "cell_type": "code",
   "execution_count": 22,
   "id": "3be3726f",
   "metadata": {},
   "outputs": [
    {
     "data": {
      "text/html": [
       "<div>\n",
       "<style scoped>\n",
       "    .dataframe tbody tr th:only-of-type {\n",
       "        vertical-align: middle;\n",
       "    }\n",
       "\n",
       "    .dataframe tbody tr th {\n",
       "        vertical-align: top;\n",
       "    }\n",
       "\n",
       "    .dataframe thead th {\n",
       "        text-align: right;\n",
       "    }\n",
       "</style>\n",
       "<table border=\"1\" class=\"dataframe\">\n",
       "  <thead>\n",
       "    <tr style=\"text-align: right;\">\n",
       "      <th></th>\n",
       "      <th>CustomerID</th>\n",
       "      <th>Recency</th>\n",
       "      <th>Frequency</th>\n",
       "      <th>Monetary</th>\n",
       "    </tr>\n",
       "  </thead>\n",
       "  <tbody>\n",
       "    <tr>\n",
       "      <th>0</th>\n",
       "      <td>12346.0</td>\n",
       "      <td>325</td>\n",
       "      <td>2</td>\n",
       "      <td>0.00</td>\n",
       "    </tr>\n",
       "    <tr>\n",
       "      <th>1</th>\n",
       "      <td>12347.0</td>\n",
       "      <td>2</td>\n",
       "      <td>132</td>\n",
       "      <td>3124.96</td>\n",
       "    </tr>\n",
       "    <tr>\n",
       "      <th>2</th>\n",
       "      <td>12348.0</td>\n",
       "      <td>75</td>\n",
       "      <td>20</td>\n",
       "      <td>1009.88</td>\n",
       "    </tr>\n",
       "    <tr>\n",
       "      <th>3</th>\n",
       "      <td>12349.0</td>\n",
       "      <td>18</td>\n",
       "      <td>50</td>\n",
       "      <td>1344.17</td>\n",
       "    </tr>\n",
       "    <tr>\n",
       "      <th>4</th>\n",
       "      <td>12350.0</td>\n",
       "      <td>310</td>\n",
       "      <td>11</td>\n",
       "      <td>213.30</td>\n",
       "    </tr>\n",
       "  </tbody>\n",
       "</table>\n",
       "</div>"
      ],
      "text/plain": [
       "   CustomerID  Recency  Frequency  Monetary\n",
       "0     12346.0      325          2      0.00\n",
       "1     12347.0        2        132   3124.96\n",
       "2     12348.0       75         20   1009.88\n",
       "3     12349.0       18         50   1344.17\n",
       "4     12350.0      310         11    213.30"
      ]
     },
     "execution_count": 22,
     "metadata": {},
     "output_type": "execute_result"
    }
   ],
   "source": [
    "RFM_Model.head()"
   ]
  },
  {
   "cell_type": "markdown",
   "id": "0d01fe3f",
   "metadata": {},
   "source": [
    "## 3. Build RFM Segments. Give recency, frequency, and monetary scores individually by dividing them into quartiles.\n",
    "\n",
    "    0-25% will be classified as very low- [1]\n",
    "\n",
    "    25%-50% will be classified as low [2]\n",
    "\n",
    "    50% - 75% will be classified as high [3]\n",
    "\n",
    "    75% and above will be classified as very high [4]"
   ]
  },
  {
   "cell_type": "code",
   "execution_count": 23,
   "id": "51bd1558",
   "metadata": {},
   "outputs": [],
   "source": [
    "RFM_Model[\"RS\"]=pd.qcut(RFM_Model[\"Recency\"],4,[4,3,2,1])\n",
    "RFM_Model[\"FS\"]=pd.qcut(RFM_Model[\"Frequency\"],4,[1,2,3,4])\n",
    "RFM_Model[\"MS\"]=pd.qcut(RFM_Model[\"Monetary\"],4,[1,2,3,4])"
   ]
  },
  {
   "cell_type": "markdown",
   "id": "c3461236",
   "metadata": {},
   "source": [
    "## b1. Combine three ratings to get a RFM segment (as strings).\n"
   ]
  },
  {
   "cell_type": "code",
   "execution_count": 24,
   "id": "f1fe03ec",
   "metadata": {},
   "outputs": [],
   "source": [
    "RFM_Model[\"Segment\"]=RFM_Model[\"RS\"].astype(str)+RFM_Model[\"FS\"].astype(str)+RFM_Model[\"MS\"].astype(str)"
   ]
  },
  {
   "cell_type": "markdown",
   "id": "cdd35d74",
   "metadata": {},
   "source": [
    "## b2. Get the RFM score by adding up the three ratings.\n",
    "\n"
   ]
  },
  {
   "cell_type": "code",
   "execution_count": 25,
   "id": "79f4200c",
   "metadata": {},
   "outputs": [],
   "source": [
    "RFM_Model[\"RFM Score\"]=RFM_Model[\"FS\"].astype(int)+RFM_Model[\"RS\"].astype(int)+RFM_Model[\"MS\"].astype(int)"
   ]
  },
  {
   "cell_type": "code",
   "execution_count": 26,
   "id": "e26b4e5d",
   "metadata": {},
   "outputs": [
    {
     "data": {
      "text/html": [
       "<div>\n",
       "<style scoped>\n",
       "    .dataframe tbody tr th:only-of-type {\n",
       "        vertical-align: middle;\n",
       "    }\n",
       "\n",
       "    .dataframe tbody tr th {\n",
       "        vertical-align: top;\n",
       "    }\n",
       "\n",
       "    .dataframe thead th {\n",
       "        text-align: right;\n",
       "    }\n",
       "</style>\n",
       "<table border=\"1\" class=\"dataframe\">\n",
       "  <thead>\n",
       "    <tr style=\"text-align: right;\">\n",
       "      <th></th>\n",
       "      <th>CustomerID</th>\n",
       "      <th>Recency</th>\n",
       "      <th>Frequency</th>\n",
       "      <th>Monetary</th>\n",
       "      <th>RS</th>\n",
       "      <th>FS</th>\n",
       "      <th>MS</th>\n",
       "      <th>Segment</th>\n",
       "      <th>RFM Score</th>\n",
       "    </tr>\n",
       "  </thead>\n",
       "  <tbody>\n",
       "    <tr>\n",
       "      <th>0</th>\n",
       "      <td>12346.0</td>\n",
       "      <td>325</td>\n",
       "      <td>2</td>\n",
       "      <td>0.00</td>\n",
       "      <td>1</td>\n",
       "      <td>1</td>\n",
       "      <td>1</td>\n",
       "      <td>111</td>\n",
       "      <td>3</td>\n",
       "    </tr>\n",
       "    <tr>\n",
       "      <th>1</th>\n",
       "      <td>12347.0</td>\n",
       "      <td>2</td>\n",
       "      <td>132</td>\n",
       "      <td>3124.96</td>\n",
       "      <td>4</td>\n",
       "      <td>4</td>\n",
       "      <td>4</td>\n",
       "      <td>444</td>\n",
       "      <td>12</td>\n",
       "    </tr>\n",
       "    <tr>\n",
       "      <th>2</th>\n",
       "      <td>12348.0</td>\n",
       "      <td>75</td>\n",
       "      <td>20</td>\n",
       "      <td>1009.88</td>\n",
       "      <td>2</td>\n",
       "      <td>2</td>\n",
       "      <td>3</td>\n",
       "      <td>223</td>\n",
       "      <td>7</td>\n",
       "    </tr>\n",
       "    <tr>\n",
       "      <th>3</th>\n",
       "      <td>12349.0</td>\n",
       "      <td>18</td>\n",
       "      <td>50</td>\n",
       "      <td>1344.17</td>\n",
       "      <td>3</td>\n",
       "      <td>3</td>\n",
       "      <td>4</td>\n",
       "      <td>334</td>\n",
       "      <td>10</td>\n",
       "    </tr>\n",
       "    <tr>\n",
       "      <th>4</th>\n",
       "      <td>12350.0</td>\n",
       "      <td>310</td>\n",
       "      <td>11</td>\n",
       "      <td>213.30</td>\n",
       "      <td>1</td>\n",
       "      <td>1</td>\n",
       "      <td>2</td>\n",
       "      <td>112</td>\n",
       "      <td>4</td>\n",
       "    </tr>\n",
       "  </tbody>\n",
       "</table>\n",
       "</div>"
      ],
      "text/plain": [
       "   CustomerID  Recency  Frequency  Monetary RS FS MS Segment  RFM Score\n",
       "0     12346.0      325          2      0.00  1  1  1     111          3\n",
       "1     12347.0        2        132   3124.96  4  4  4     444         12\n",
       "2     12348.0       75         20   1009.88  2  2  3     223          7\n",
       "3     12349.0       18         50   1344.17  3  3  4     334         10\n",
       "4     12350.0      310         11    213.30  1  1  2     112          4"
      ]
     },
     "execution_count": 26,
     "metadata": {},
     "output_type": "execute_result"
    }
   ],
   "source": [
    "RFM_Model.head()"
   ]
  },
  {
   "cell_type": "markdown",
   "id": "6d510500",
   "metadata": {},
   "source": [
    "## b3. Analyze the RFM segments by summarizing them and comment on the findings.\n",
    "\n"
   ]
  },
  {
   "cell_type": "code",
   "execution_count": 27,
   "id": "3e9c7e77",
   "metadata": {},
   "outputs": [],
   "source": [
    "RFM_Model[\"Class\"]=pd.qcut(RFM_Model[\"RFM Score\"],4,[\"Minor Customer\",\"Average Customer\",\"Good Customer\",\"Best Customer\"])\n",
    "RFM_Model[\"Class\"]=RFM_Model[\"Class\"].astype(str)\n",
    "RFM_Model[\"RS\"]=RFM_Model[\"RS\"].astype(str)"
   ]
  },
  {
   "cell_type": "code",
   "execution_count": 28,
   "id": "5725e841",
   "metadata": {},
   "outputs": [],
   "source": [
    "#creating a sublass to analyze recency\n",
    "def check_recency(RS_score, Class):\n",
    "    if (RS_score==\"2\"):\n",
    "        return \"Almost Lost \"\n",
    "    elif RS_score==\"1\":\n",
    "        return \"Lost \"\n",
    "    else:\n",
    "        return \"Recent\"\n",
    "    \n",
    "RFM_Model[\"Sub Class\"]=RFM_Model[\"RS\"].apply(check_recency, Class=RFM_Model[\"Class\"].astype(str)[0])\n"
   ]
  },
  {
   "cell_type": "code",
   "execution_count": 29,
   "id": "0ee00ba4",
   "metadata": {},
   "outputs": [
    {
     "data": {
      "text/html": [
       "<div>\n",
       "<style scoped>\n",
       "    .dataframe tbody tr th:only-of-type {\n",
       "        vertical-align: middle;\n",
       "    }\n",
       "\n",
       "    .dataframe tbody tr th {\n",
       "        vertical-align: top;\n",
       "    }\n",
       "\n",
       "    .dataframe thead th {\n",
       "        text-align: right;\n",
       "    }\n",
       "</style>\n",
       "<table border=\"1\" class=\"dataframe\">\n",
       "  <thead>\n",
       "    <tr style=\"text-align: right;\">\n",
       "      <th></th>\n",
       "      <th>CustomerID</th>\n",
       "      <th>Recency</th>\n",
       "      <th>Frequency</th>\n",
       "      <th>Monetary</th>\n",
       "      <th>RS</th>\n",
       "      <th>FS</th>\n",
       "      <th>MS</th>\n",
       "      <th>Segment</th>\n",
       "      <th>RFM Score</th>\n",
       "      <th>Class</th>\n",
       "      <th>Sub Class</th>\n",
       "    </tr>\n",
       "  </thead>\n",
       "  <tbody>\n",
       "    <tr>\n",
       "      <th>0</th>\n",
       "      <td>12346.0</td>\n",
       "      <td>325</td>\n",
       "      <td>2</td>\n",
       "      <td>0.00</td>\n",
       "      <td>1</td>\n",
       "      <td>1</td>\n",
       "      <td>1</td>\n",
       "      <td>111</td>\n",
       "      <td>3</td>\n",
       "      <td>Minor Customer</td>\n",
       "      <td>Lost</td>\n",
       "    </tr>\n",
       "    <tr>\n",
       "      <th>1</th>\n",
       "      <td>12347.0</td>\n",
       "      <td>2</td>\n",
       "      <td>132</td>\n",
       "      <td>3124.96</td>\n",
       "      <td>4</td>\n",
       "      <td>4</td>\n",
       "      <td>4</td>\n",
       "      <td>444</td>\n",
       "      <td>12</td>\n",
       "      <td>Best Customer</td>\n",
       "      <td>Recent</td>\n",
       "    </tr>\n",
       "    <tr>\n",
       "      <th>2</th>\n",
       "      <td>12348.0</td>\n",
       "      <td>75</td>\n",
       "      <td>20</td>\n",
       "      <td>1009.88</td>\n",
       "      <td>2</td>\n",
       "      <td>2</td>\n",
       "      <td>3</td>\n",
       "      <td>223</td>\n",
       "      <td>7</td>\n",
       "      <td>Average Customer</td>\n",
       "      <td>Almost Lost</td>\n",
       "    </tr>\n",
       "    <tr>\n",
       "      <th>3</th>\n",
       "      <td>12349.0</td>\n",
       "      <td>18</td>\n",
       "      <td>50</td>\n",
       "      <td>1344.17</td>\n",
       "      <td>3</td>\n",
       "      <td>3</td>\n",
       "      <td>4</td>\n",
       "      <td>334</td>\n",
       "      <td>10</td>\n",
       "      <td>Good Customer</td>\n",
       "      <td>Recent</td>\n",
       "    </tr>\n",
       "    <tr>\n",
       "      <th>4</th>\n",
       "      <td>12350.0</td>\n",
       "      <td>310</td>\n",
       "      <td>11</td>\n",
       "      <td>213.30</td>\n",
       "      <td>1</td>\n",
       "      <td>1</td>\n",
       "      <td>2</td>\n",
       "      <td>112</td>\n",
       "      <td>4</td>\n",
       "      <td>Minor Customer</td>\n",
       "      <td>Lost</td>\n",
       "    </tr>\n",
       "  </tbody>\n",
       "</table>\n",
       "</div>"
      ],
      "text/plain": [
       "   CustomerID  Recency  Frequency  Monetary RS FS MS Segment  RFM Score  \\\n",
       "0     12346.0      325          2      0.00  1  1  1     111          3   \n",
       "1     12347.0        2        132   3124.96  4  4  4     444         12   \n",
       "2     12348.0       75         20   1009.88  2  2  3     223          7   \n",
       "3     12349.0       18         50   1344.17  3  3  4     334         10   \n",
       "4     12350.0      310         11    213.30  1  1  2     112          4   \n",
       "\n",
       "              Class     Sub Class  \n",
       "0    Minor Customer         Lost   \n",
       "1     Best Customer        Recent  \n",
       "2  Average Customer  Almost Lost   \n",
       "3     Good Customer        Recent  \n",
       "4    Minor Customer         Lost   "
      ]
     },
     "execution_count": 29,
     "metadata": {},
     "output_type": "execute_result"
    }
   ],
   "source": [
    "RFM_Model.head()"
   ]
  },
  {
   "cell_type": "code",
   "execution_count": 30,
   "id": "bb8f56ac",
   "metadata": {},
   "outputs": [],
   "source": [
    "graph=RFM_Model.groupby(\"Class\", as_index=False).count()\n",
    "graph2=RFM_Model.groupby(\"Sub Class\", as_index=False).count()"
   ]
  },
  {
   "cell_type": "markdown",
   "id": "5451fa2f",
   "metadata": {},
   "source": [
    "**Customer Segments**"
   ]
  },
  {
   "cell_type": "code",
   "execution_count": 31,
   "id": "f29e3f18",
   "metadata": {},
   "outputs": [
    {
     "data": {
      "image/png": "[encoded data removed]",
      "text/plain": [
       "<Figure size 432x288 with 1 Axes>"
      ]
     },
     "metadata": {},
     "output_type": "display_data"
    }
   ],
   "source": [
    "#Inspecting the distribution\n",
    "\n",
    "# Pie chart\n",
    "labels = graph[\"Class\"]\n",
    "sizes = graph[\"CustomerID\"]\n",
    "\n",
    "#colors\n",
    "colors = ['#ff9999','#66b3ff','#ffcc99','#99ff99']\n",
    "\n",
    "fig1, ax1 = plt.subplots()\n",
    "ax1.pie(sizes, labels=labels, colors=colors,autopct='%1.1f%%', startangle=90)\n",
    "#draw circle\n",
    "centre_circle = plt.Circle((0,0),0.70,fc='white')\n",
    "fig = plt.gcf()\n",
    "fig.gca().add_artist(centre_circle)\n",
    "# Equal aspect ratio ensures that pie is drawn as a circle\n",
    "ax1.axis('equal')  \n",
    "\n",
    "plt.tight_layout()\n",
    "plt.show()\n"
   ]
  },
  {
   "cell_type": "markdown",
   "id": "d1807964",
   "metadata": {},
   "source": [
    "**Best Customers**\n",
    "\n",
    "(note: scores are segregated in the following order: Recency, Frequency, Monetary. The best score given was 4, and 1 is the lowest one. RFM Score is the sum of all 3 values).\n",
    "\n",
    "It is possible to appretiate that customers with a RFM Score of 11 or 12 are considered the company´s Best Customers. It is achieved by having the maximum score in all 3 features, or at least, only one score of 3\n",
    "\n",
    "It is concluded that it is reasonable to classify these scenarios as the best customers of the companysince this represents the maximum RFM score (customers who bought recently, many times per year, with in a high amount). The following codes show all scenarios considered in this category:"
   ]
  },
  {
   "cell_type": "code",
   "execution_count": 32,
   "id": "b97bf46a",
   "metadata": {},
   "outputs": [
    {
     "data": {
      "text/html": [
       "<div>\n",
       "<style scoped>\n",
       "    .dataframe tbody tr th:only-of-type {\n",
       "        vertical-align: middle;\n",
       "    }\n",
       "\n",
       "    .dataframe tbody tr th {\n",
       "        vertical-align: top;\n",
       "    }\n",
       "\n",
       "    .dataframe thead th {\n",
       "        text-align: right;\n",
       "    }\n",
       "</style>\n",
       "<table border=\"1\" class=\"dataframe\">\n",
       "  <thead>\n",
       "    <tr style=\"text-align: right;\">\n",
       "      <th></th>\n",
       "      <th>0</th>\n",
       "      <th>1</th>\n",
       "      <th>2</th>\n",
       "      <th>3</th>\n",
       "    </tr>\n",
       "  </thead>\n",
       "  <tbody>\n",
       "    <tr>\n",
       "      <th>0</th>\n",
       "      <td>444</td>\n",
       "      <td>344</td>\n",
       "      <td>434</td>\n",
       "      <td>443</td>\n",
       "    </tr>\n",
       "  </tbody>\n",
       "</table>\n",
       "</div>"
      ],
      "text/plain": [
       "     0    1    2    3\n",
       "0  444  344  434  443"
      ]
     },
     "execution_count": 32,
     "metadata": {},
     "output_type": "execute_result"
    }
   ],
   "source": [
    "#Printing all values\n",
    "np.transpose(pd.DataFrame(RFM_Model[RFM_Model.Class ==\"Best Customer\"][\"Segment\"].unique()))"
   ]
  },
  {
   "cell_type": "code",
   "execution_count": 33,
   "id": "33942e36",
   "metadata": {},
   "outputs": [
    {
     "name": "stdout",
     "output_type": "stream",
     "text": [
      "min value:  11 , max value:  12\n"
     ]
    }
   ],
   "source": [
    "#Printing min and max score posible to achieve this category\n",
    "print( \"min value: \", RFM_Model[RFM_Model.Class==\"Best Customer\"][\"RFM Score\"].min(),\n",
    "     \", max value: \", RFM_Model[RFM_Model.Class==\"Best Customer\"][\"RFM Score\"].max())\n"
   ]
  },
  {
   "cell_type": "markdown",
   "id": "1814b78a",
   "metadata": {},
   "source": [
    "**Good Customers**\n",
    "\n",
    "A good customer achieved a RFM score between 8 and 10. These customers are characterized by a score of 3 or 4 in any of the Recency, frequency or monetary categories, and values of 2 and 3 might also be present with the following scenarios:\n",
    "\n",
    "Y stands for a value of 1 or 2 and X for a value of 3 or 4;\n",
    "\n",
    "XX Y - a customer who has bought recently and frequently, but not in high amounts.\n",
    "\n",
    "X Y X - a customer who does not buy frequently, but has bought recently with a high amount.\n",
    "\n",
    "Y XX - acustomer who has not bought something recently, but with a high frequency and amount in the past\n",
    "\n",
    "It is concluded that it is reasonable to classify these scenarios as good customers for the company. Regardles of frequency and amount, if a customer has a low recency amount, it could be a lost or almost lost customer. This is analyzed in the next section. The following code shows all scenarios considered in this category:"
   ]
  },
  {
   "cell_type": "code",
   "execution_count": 34,
   "id": "8b2b78e6",
   "metadata": {},
   "outputs": [
    {
     "data": {
      "text/html": [
       "<div>\n",
       "<style scoped>\n",
       "    .dataframe tbody tr th:only-of-type {\n",
       "        vertical-align: middle;\n",
       "    }\n",
       "\n",
       "    .dataframe tbody tr th {\n",
       "        vertical-align: top;\n",
       "    }\n",
       "\n",
       "    .dataframe thead th {\n",
       "        text-align: right;\n",
       "    }\n",
       "</style>\n",
       "<table border=\"1\" class=\"dataframe\">\n",
       "  <thead>\n",
       "    <tr style=\"text-align: right;\">\n",
       "      <th></th>\n",
       "      <th>0</th>\n",
       "      <th>1</th>\n",
       "      <th>2</th>\n",
       "      <th>3</th>\n",
       "      <th>4</th>\n",
       "      <th>5</th>\n",
       "      <th>6</th>\n",
       "      <th>7</th>\n",
       "      <th>8</th>\n",
       "      <th>9</th>\n",
       "      <th>...</th>\n",
       "      <th>16</th>\n",
       "      <th>17</th>\n",
       "      <th>18</th>\n",
       "      <th>19</th>\n",
       "      <th>20</th>\n",
       "      <th>21</th>\n",
       "      <th>22</th>\n",
       "      <th>23</th>\n",
       "      <th>24</th>\n",
       "      <th>25</th>\n",
       "    </tr>\n",
       "  </thead>\n",
       "  <tbody>\n",
       "    <tr>\n",
       "      <th>0</th>\n",
       "      <td>334</td>\n",
       "      <td>244</td>\n",
       "      <td>433</td>\n",
       "      <td>233</td>\n",
       "      <td>323</td>\n",
       "      <td>134</td>\n",
       "      <td>332</td>\n",
       "      <td>234</td>\n",
       "      <td>423</td>\n",
       "      <td>224</td>\n",
       "      <td>...</td>\n",
       "      <td>432</td>\n",
       "      <td>242</td>\n",
       "      <td>414</td>\n",
       "      <td>324</td>\n",
       "      <td>243</td>\n",
       "      <td>442</td>\n",
       "      <td>314</td>\n",
       "      <td>413</td>\n",
       "      <td>431</td>\n",
       "      <td>143</td>\n",
       "    </tr>\n",
       "  </tbody>\n",
       "</table>\n",
       "<p>1 rows × 26 columns</p>\n",
       "</div>"
      ],
      "text/plain": [
       "    0    1    2    3    4    5    6    7    8    9   ...   16   17   18   19  \\\n",
       "0  334  244  433  233  323  134  332  234  423  224  ...  432  242  414  324   \n",
       "\n",
       "    20   21   22   23   24   25  \n",
       "0  243  442  314  413  431  143  \n",
       "\n",
       "[1 rows x 26 columns]"
      ]
     },
     "execution_count": 34,
     "metadata": {},
     "output_type": "execute_result"
    }
   ],
   "source": [
    "np.transpose(pd.DataFrame(RFM_Model[RFM_Model.Class ==\"Good Customer\"][\"Segment\"].unique()))"
   ]
  },
  {
   "cell_type": "code",
   "execution_count": 35,
   "id": "e1904043",
   "metadata": {},
   "outputs": [
    {
     "name": "stdout",
     "output_type": "stream",
     "text": [
      "min value:  8 , max value:  10\n"
     ]
    }
   ],
   "source": [
    "print( \"min value: \", RFM_Model[RFM_Model.Class==\"Good Customer\"][\"RFM Score\"].min(),\n",
    "     \", max value: \", RFM_Model[RFM_Model.Class==\"Good Customer\"][\"RFM Score\"].max())\n"
   ]
  },
  {
   "cell_type": "markdown",
   "id": "88c8d71f",
   "metadata": {},
   "source": [
    "**Average Customers**\n",
    "\n",
    "These customers are classified by a RFM Score between 6 and 7. This can be achieved by multiple combinations, like a high score (3 or 4), followed by two lower scores, either a 2 or a 1, three low scores of 222, or a \"123\" sequence\n",
    "\n",
    "This category represents a segment of customers who actively purchased goods from the company, but not many times or in high amouns througout the year. A customer who recenlty joined the company is also considered in this category by having a good recency, but not many invoices (frequency) or a high amount due to time constraints"
   ]
  },
  {
   "cell_type": "code",
   "execution_count": 36,
   "id": "6712f17d",
   "metadata": {},
   "outputs": [
    {
     "data": {
      "text/html": [
       "<div>\n",
       "<style scoped>\n",
       "    .dataframe tbody tr th:only-of-type {\n",
       "        vertical-align: middle;\n",
       "    }\n",
       "\n",
       "    .dataframe tbody tr th {\n",
       "        vertical-align: top;\n",
       "    }\n",
       "\n",
       "    .dataframe thead th {\n",
       "        text-align: right;\n",
       "    }\n",
       "</style>\n",
       "<table border=\"1\" class=\"dataframe\">\n",
       "  <thead>\n",
       "    <tr style=\"text-align: right;\">\n",
       "      <th></th>\n",
       "      <th>0</th>\n",
       "      <th>1</th>\n",
       "      <th>2</th>\n",
       "      <th>3</th>\n",
       "      <th>4</th>\n",
       "      <th>5</th>\n",
       "      <th>6</th>\n",
       "      <th>7</th>\n",
       "      <th>8</th>\n",
       "      <th>9</th>\n",
       "      <th>...</th>\n",
       "      <th>11</th>\n",
       "      <th>12</th>\n",
       "      <th>13</th>\n",
       "      <th>14</th>\n",
       "      <th>15</th>\n",
       "      <th>16</th>\n",
       "      <th>17</th>\n",
       "      <th>18</th>\n",
       "      <th>19</th>\n",
       "      <th>20</th>\n",
       "    </tr>\n",
       "  </thead>\n",
       "  <tbody>\n",
       "    <tr>\n",
       "      <th>0</th>\n",
       "      <td>223</td>\n",
       "      <td>133</td>\n",
       "      <td>412</td>\n",
       "      <td>222</td>\n",
       "      <td>123</td>\n",
       "      <td>411</td>\n",
       "      <td>322</td>\n",
       "      <td>312</td>\n",
       "      <td>421</td>\n",
       "      <td>213</td>\n",
       "      <td>...</td>\n",
       "      <td>241</td>\n",
       "      <td>124</td>\n",
       "      <td>214</td>\n",
       "      <td>331</td>\n",
       "      <td>231</td>\n",
       "      <td>321</td>\n",
       "      <td>132</td>\n",
       "      <td>114</td>\n",
       "      <td>232</td>\n",
       "      <td>142</td>\n",
       "    </tr>\n",
       "  </tbody>\n",
       "</table>\n",
       "<p>1 rows × 21 columns</p>\n",
       "</div>"
      ],
      "text/plain": [
       "    0    1    2    3    4    5    6    7    8    9   ...   11   12   13   14  \\\n",
       "0  223  133  412  222  123  411  322  312  421  213  ...  241  124  214  331   \n",
       "\n",
       "    15   16   17   18   19   20  \n",
       "0  231  321  132  114  232  142  \n",
       "\n",
       "[1 rows x 21 columns]"
      ]
     },
     "execution_count": 36,
     "metadata": {},
     "output_type": "execute_result"
    }
   ],
   "source": [
    "np.transpose(pd.DataFrame(RFM_Model[RFM_Model.Class ==\"Average Customer\"][\"Segment\"].unique()))"
   ]
  },
  {
   "cell_type": "code",
   "execution_count": 37,
   "id": "5a0e3b0d",
   "metadata": {},
   "outputs": [
    {
     "name": "stdout",
     "output_type": "stream",
     "text": [
      "min value:  6 , max value:  7\n"
     ]
    }
   ],
   "source": [
    "print( \"min value: \", RFM_Model[RFM_Model.Class==\"Average Customer\"][\"RFM Score\"].min(),\n",
    "     \", max value: \", RFM_Model[RFM_Model.Class==\"Average Customer\"][\"RFM Score\"].max())"
   ]
  },
  {
   "cell_type": "markdown",
   "id": "25846298",
   "metadata": {},
   "source": [
    "**Minor Customer**\n",
    "\n",
    "A minor customer has bought in a small frequency and amount. Its RFM score is between 3 and 5\n",
    "\n",
    "When a high score of 3 is present, it must be followed by a \"1\" in subsequent categories to achieve a sum of 5. This means it has either a good Frequency, Recency or Monetary value followed by a two of the lowest possible scores in the remaining categories, or scores consisting entirely of 2 and 1.\n",
    "\n",
    "It is reasonable to classify these scenarios as minor customers for the company, since they are not characterized by a high recency, frequency or monetary value"
   ]
  },
  {
   "cell_type": "code",
   "execution_count": 38,
   "id": "865f6af1",
   "metadata": {},
   "outputs": [
    {
     "data": {
      "text/html": [
       "<div>\n",
       "<style scoped>\n",
       "    .dataframe tbody tr th:only-of-type {\n",
       "        vertical-align: middle;\n",
       "    }\n",
       "\n",
       "    .dataframe tbody tr th {\n",
       "        vertical-align: top;\n",
       "    }\n",
       "\n",
       "    .dataframe thead th {\n",
       "        text-align: right;\n",
       "    }\n",
       "</style>\n",
       "<table border=\"1\" class=\"dataframe\">\n",
       "  <thead>\n",
       "    <tr style=\"text-align: right;\">\n",
       "      <th></th>\n",
       "      <th>0</th>\n",
       "      <th>1</th>\n",
       "      <th>2</th>\n",
       "      <th>3</th>\n",
       "      <th>4</th>\n",
       "      <th>5</th>\n",
       "      <th>6</th>\n",
       "      <th>7</th>\n",
       "      <th>8</th>\n",
       "      <th>9</th>\n",
       "    </tr>\n",
       "  </thead>\n",
       "  <tbody>\n",
       "    <tr>\n",
       "      <th>0</th>\n",
       "      <td>111</td>\n",
       "      <td>112</td>\n",
       "      <td>122</td>\n",
       "      <td>212</td>\n",
       "      <td>311</td>\n",
       "      <td>221</td>\n",
       "      <td>121</td>\n",
       "      <td>211</td>\n",
       "      <td>131</td>\n",
       "      <td>113</td>\n",
       "    </tr>\n",
       "  </tbody>\n",
       "</table>\n",
       "</div>"
      ],
      "text/plain": [
       "     0    1    2    3    4    5    6    7    8    9\n",
       "0  111  112  122  212  311  221  121  211  131  113"
      ]
     },
     "execution_count": 38,
     "metadata": {},
     "output_type": "execute_result"
    }
   ],
   "source": [
    "np.transpose(pd.DataFrame(RFM_Model[RFM_Model.Class ==\"Minor Customer\"][\"Segment\"].unique()))"
   ]
  },
  {
   "cell_type": "code",
   "execution_count": 39,
   "id": "704fc725",
   "metadata": {},
   "outputs": [
    {
     "name": "stdout",
     "output_type": "stream",
     "text": [
      "min value:  3 , max value:  5\n"
     ]
    }
   ],
   "source": [
    "print( \"min value: \", RFM_Model[RFM_Model.Class==\"Minor Customer\"][\"RFM Score\"].min(),\n",
    "     \", max value: \", RFM_Model[RFM_Model.Class==\"Minor Customer\"][\"RFM Score\"].max())"
   ]
  },
  {
   "cell_type": "markdown",
   "id": "340a227f",
   "metadata": {},
   "source": [
    "**Customer subclass based on recency**"
   ]
  },
  {
   "cell_type": "code",
   "execution_count": 40,
   "id": "47bf07a1",
   "metadata": {},
   "outputs": [
    {
     "data": {
      "image/png": "[encoded data removed]",
      "text/plain": [
       "<Figure size 432x288 with 1 Axes>"
      ]
     },
     "metadata": {},
     "output_type": "display_data"
    }
   ],
   "source": [
    "\n",
    "labels = graph2[\"Sub Class\"]\n",
    "sizes = graph2[\"CustomerID\"]\n",
    "\n",
    "fig1, ax1 = plt.subplots()\n",
    "ax1.pie(sizes, labels=labels, colors=colors,autopct='%1.1f%%', startangle=90)\n",
    "#draw circle\n",
    "centre_circle = plt.Circle((0,0),0.70,fc='white')\n",
    "fig = plt.gcf()\n",
    "fig.gca().add_artist(centre_circle)\n",
    "# Equal aspect ratio ensures that pie is drawn as a circle\n",
    "ax1.axis('equal')  \n",
    "\n",
    "plt.tight_layout()\n",
    "\n",
    "plt.show()"
   ]
  },
  {
   "cell_type": "markdown",
   "id": "fb316dd1",
   "metadata": {},
   "source": [
    "**Lost Customers**\n",
    "\n",
    "It is possible to appretiate that regardless of the customer category: Average, Good, or Minor, if recency has a value of 1, which means its lower possible score, it represents a customer that the company might have lost.\n",
    "\n",
    "The company should focus in finding a way to bring this customer back using customized emails, or marketing to promote the company and win the customer back\n",
    "\n",
    "\n",
    "**Almost Lost Customers**\n",
    "\n",
    "\n",
    "It is possible to appretiate that regardless of the customer category: Average, Good, or Minor, if recency has a value of 2, it represents a customer who could almost be lost.\n",
    "\n",
    "The company should focus in this customer segment to encourage them to keep acquiring products through loyalty programs or points that could be used as a discount in the future.\n",
    "\n",
    "**Recent Customers**\n",
    "\n",
    "A customer who has bought recently for the company represents the best case scenario. He needs to be encouraged to keep aquiring more goods by notifying them when discounts are available or recognizing this achievement for good and best customers\n",
    "with a customized badge, or loyalty reward programs."
   ]
  },
  {
   "cell_type": "markdown",
   "id": "837a8422",
   "metadata": {},
   "source": [
    "## Project Task: Week 3:\n",
    "\n",
    "Create clusters using k-means clustering algorithm.\n",
    "\n",
    "Prepare the data for the algorithm. If the data is asymmetrically distributed, manage the skewness with appropriate transformation. Standardize the data."
   ]
  },
  {
   "cell_type": "code",
   "execution_count": 41,
   "id": "048a174f",
   "metadata": {},
   "outputs": [],
   "source": [
    "#Imposting Library for K means\n",
    "from sklearn.cluster import KMeans\n",
    "#Importing library for label encoder\n",
    "from sklearn import preprocessing\n"
   ]
  },
  {
   "cell_type": "code",
   "execution_count": 42,
   "id": "b75a42ee",
   "metadata": {},
   "outputs": [
    {
     "data": {
      "text/html": [
       "<div>\n",
       "<style scoped>\n",
       "    .dataframe tbody tr th:only-of-type {\n",
       "        vertical-align: middle;\n",
       "    }\n",
       "\n",
       "    .dataframe tbody tr th {\n",
       "        vertical-align: top;\n",
       "    }\n",
       "\n",
       "    .dataframe thead th {\n",
       "        text-align: right;\n",
       "    }\n",
       "</style>\n",
       "<table border=\"1\" class=\"dataframe\">\n",
       "  <thead>\n",
       "    <tr style=\"text-align: right;\">\n",
       "      <th></th>\n",
       "      <th>RS</th>\n",
       "      <th>FS</th>\n",
       "      <th>MS</th>\n",
       "      <th>RFM Score</th>\n",
       "    </tr>\n",
       "  </thead>\n",
       "  <tbody>\n",
       "    <tr>\n",
       "      <th>0</th>\n",
       "      <td>1</td>\n",
       "      <td>1</td>\n",
       "      <td>1</td>\n",
       "      <td>3</td>\n",
       "    </tr>\n",
       "    <tr>\n",
       "      <th>1</th>\n",
       "      <td>4</td>\n",
       "      <td>4</td>\n",
       "      <td>4</td>\n",
       "      <td>12</td>\n",
       "    </tr>\n",
       "    <tr>\n",
       "      <th>2</th>\n",
       "      <td>2</td>\n",
       "      <td>2</td>\n",
       "      <td>3</td>\n",
       "      <td>7</td>\n",
       "    </tr>\n",
       "    <tr>\n",
       "      <th>3</th>\n",
       "      <td>3</td>\n",
       "      <td>3</td>\n",
       "      <td>4</td>\n",
       "      <td>10</td>\n",
       "    </tr>\n",
       "    <tr>\n",
       "      <th>4</th>\n",
       "      <td>1</td>\n",
       "      <td>1</td>\n",
       "      <td>2</td>\n",
       "      <td>4</td>\n",
       "    </tr>\n",
       "  </tbody>\n",
       "</table>\n",
       "</div>"
      ],
      "text/plain": [
       "  RS FS MS  RFM Score\n",
       "0  1  1  1          3\n",
       "1  4  4  4         12\n",
       "2  2  2  3          7\n",
       "3  3  3  4         10\n",
       "4  1  1  2          4"
      ]
     },
     "execution_count": 42,
     "metadata": {},
     "output_type": "execute_result"
    }
   ],
   "source": [
    "#Preparing data for Kmeans\n",
    "\n",
    "KmeansModel=RFM_Model[[\"RS\",\"FS\",\"MS\",\"RFM Score\"]]\n",
    "\n",
    "KmeansModel.head()"
   ]
  },
  {
   "cell_type": "code",
   "execution_count": 43,
   "id": "07249c44",
   "metadata": {},
   "outputs": [
    {
     "data": {
      "text/plain": [
       "KMeans(n_clusters=5)"
      ]
     },
     "execution_count": 43,
     "metadata": {},
     "output_type": "execute_result"
    }
   ],
   "source": [
    "#A value of 5 will be haphazardly selected to test its value\n",
    "\n",
    "kmeans=KMeans(n_clusters=5)\n",
    "kmeans.fit(KmeansModel)"
   ]
  },
  {
   "cell_type": "code",
   "execution_count": 44,
   "id": "afb41090",
   "metadata": {},
   "outputs": [],
   "source": [
    "KmeansModel[\"Cluster\"]=kmeans.predict(KmeansModel)"
   ]
  },
  {
   "cell_type": "code",
   "execution_count": 45,
   "id": "24037d22",
   "metadata": {},
   "outputs": [
    {
     "name": "stdout",
     "output_type": "stream",
     "text": [
      "{0: 841, 1: 956, 2: 931, 3: 790, 4: 835}\n"
     ]
    }
   ],
   "source": [
    "#the following code shows the data distribution among the 5 centroids\n",
    "unique, counts= np.unique(kmeans.labels_, return_counts=True)\n",
    "print(dict(zip(unique,counts)))"
   ]
  },
  {
   "cell_type": "markdown",
   "id": "7ee683dd",
   "metadata": {},
   "source": [
    "**Decide the optimum number of clusters to be formed.**"
   ]
  },
  {
   "cell_type": "code",
   "execution_count": 46,
   "id": "a4f9435a",
   "metadata": {},
   "outputs": [],
   "source": [
    "#inetria will be calculated to inspect the opimal number of clusters\n",
    "wcss = []\n",
    "for i in range(1,11) :\n",
    "    kmeans = KMeans(n_clusters=i)\n",
    "    kmeans.fit(KmeansModel)\n",
    "    wcss.append(kmeans.inertia_)"
   ]
  },
  {
   "cell_type": "code",
   "execution_count": 47,
   "id": "21684735",
   "metadata": {},
   "outputs": [
    {
     "data": {
      "text/plain": [
       "Text(0.5, 1.0, 'Elbow Curve')"
      ]
     },
     "execution_count": 47,
     "metadata": {},
     "output_type": "execute_result"
    },
    {
     "data": {
      "image/png": "[encoded data removed]",
      "text/plain": [
       "<Figure size 432x288 with 1 Axes>"
      ]
     },
     "metadata": {
      "needs_background": "light"
     },
     "output_type": "display_data"
    }
   ],
   "source": [
    "## Plotting the ELbow Curve\n",
    "plt.plot(range(1,11),wcss)\n",
    "plt.xlabel('Number of Clusters')\n",
    "plt.ylabel('WCSS')\n",
    "plt.title('Elbow Curve')\n"
   ]
  },
  {
   "cell_type": "markdown",
   "id": "90b0fa8d",
   "metadata": {},
   "source": [
    "**It is concluded that the optimal number of clusters according to elbow curve is 3**"
   ]
  },
  {
   "cell_type": "code",
   "execution_count": 48,
   "id": "64419d2f",
   "metadata": {},
   "outputs": [],
   "source": [
    "#calculating k means algorithm with 3 clusters\n",
    "kmeans=KMeans(n_clusters=3)\n",
    "kmeans.fit(KmeansModel)\n",
    "KmeansModel[\"Cluster\"]=kmeans.predict(KmeansModel)"
   ]
  },
  {
   "cell_type": "markdown",
   "id": "d854c018",
   "metadata": {},
   "source": [
    "**Analyze these clusters and comment on the results.**\n",
    "\n",
    "According to K means clustering algorithm, costumers can be segmented into 3 categories:\n",
    "- cluster 0 has a RFM score of 11 or 12 representing the company´s best costumers. There are 841 cases\n",
    "- cluster 2 represents a RFM score between 10 and 7, and corresponds to the company´s good costumers with 1766 cases\n",
    "- cluster 1 has a RFM score between 3 and 6, and it represents the company´s minor costumers with 1746 cases found\n"
   ]
  },
  {
   "cell_type": "code",
   "execution_count": 49,
   "id": "28ebb1bd",
   "metadata": {},
   "outputs": [
    {
     "data": {
      "text/plain": [
       "Text(0.5, 1.0, 'Cluster segmentation based on Recency')"
      ]
     },
     "execution_count": 49,
     "metadata": {},
     "output_type": "execute_result"
    },
    {
     "data": {
      "image/png": "[encoded data removed]",
      "text/plain": [
       "<Figure size 1080x288 with 1 Axes>"
      ]
     },
     "metadata": {},
     "output_type": "display_data"
    }
   ],
   "source": [
    "plt.rcParams['figure.figsize'] = [15, 4]\n",
    "sns.set_style(\"whitegrid\")\n",
    "sns.scatterplot('RFM Score',\"RS\",data=KmeansModel,hue = 'Cluster', palette=['blue','orange','red'])\n",
    "plt.title('Cluster segmentation based on Recency')\n"
   ]
  },
  {
   "cell_type": "code",
   "execution_count": 50,
   "id": "72339772",
   "metadata": {},
   "outputs": [
    {
     "data": {
      "text/plain": [
       "Text(0.5, 1.0, 'Cluster segmentation based on Frequency')"
      ]
     },
     "execution_count": 50,
     "metadata": {},
     "output_type": "execute_result"
    },
    {
     "data": {
      "image/png": "[encoded data removed]",
      "text/plain": [
       "<Figure size 1080x288 with 1 Axes>"
      ]
     },
     "metadata": {},
     "output_type": "display_data"
    }
   ],
   "source": [
    "sns.scatterplot('RFM Score',\"FS\",data=KmeansModel,hue = 'Cluster', palette=['blue','orange','red'])\n",
    "plt.title('Cluster segmentation based on Frequency')"
   ]
  },
  {
   "cell_type": "code",
   "execution_count": 51,
   "id": "4ada9324",
   "metadata": {},
   "outputs": [
    {
     "data": {
      "text/plain": [
       "Text(0.5, 1.0, 'Cluster segmentation based on Monetary Value')"
      ]
     },
     "execution_count": 51,
     "metadata": {},
     "output_type": "execute_result"
    },
    {
     "data": {
      "image/png": "[encoded data removed]",
      "text/plain": [
       "<Figure size 1080x288 with 1 Axes>"
      ]
     },
     "metadata": {},
     "output_type": "display_data"
    }
   ],
   "source": [
    "sns.scatterplot('RFM Score',\"MS\",data=KmeansModel,hue = 'Cluster', palette=['blue','orange','red'])\n",
    "plt.title('Cluster segmentation based on Monetary Value')"
   ]
  },
  {
   "cell_type": "code",
   "execution_count": 52,
   "id": "c398e8cb",
   "metadata": {},
   "outputs": [
    {
     "data": {
      "text/plain": [
       "Text(0.5, 1.0, 'Cluster segmentation based on RFM Score')"
      ]
     },
     "execution_count": 52,
     "metadata": {},
     "output_type": "execute_result"
    },
    {
     "data": {
      "image/png": "[encoded data removed]",
      "text/plain": [
       "<Figure size 288x288 with 1 Axes>"
      ]
     },
     "metadata": {},
     "output_type": "display_data"
    }
   ],
   "source": [
    "#This last graph shows cluster number versus RFM score for each. cluster 1 is at the bottom and cluster 0 represents the max score\n",
    "\n",
    "plt.rcParams['figure.figsize'] = [4, 4]\n",
    "\n",
    "\n",
    "sns.scatterplot(\"Cluster\", \"RFM Score\",data=KmeansModel,hue = 'Cluster', palette=['blue','orange','red'])\n",
    "plt.legend(bbox_to_anchor=(1.05, 1), loc=2, borderaxespad=0.)\n",
    "plt.title('Cluster segmentation based on RFM Score')\n",
    "\n"
   ]
  },
  {
   "cell_type": "code",
   "execution_count": 53,
   "id": "4c4d77ca",
   "metadata": {},
   "outputs": [
    {
     "name": "stdout",
     "output_type": "stream",
     "text": [
      "{0: 841, 1: 1746, 2: 1766}\n"
     ]
    }
   ],
   "source": [
    "# inspecting number of customers in each cluster\n",
    "unique, counts= np.unique(kmeans.labels_, return_counts=True)\n",
    "print(dict(zip(unique,counts)))"
   ]
  },
  {
   "cell_type": "markdown",
   "id": "91aab1da",
   "metadata": {},
   "source": [
    "## Project Task: Week 4\n",
    "\n",
    "\n",
    "**in order to create a tableau visualization, an xslx file will be created using updated train DF, RFM Model, and K means´ Elbow curve dataframe. Link:https://public.tableau.com/views/Retail-PGP/Dashboard1?:language=de-DE&publish=yes&:display_count=n&:origin=viz_share_link  **\n",
    "\n",
    "\n",
    "Create a dashboard in tableau by choosing appropriate chart types and metrics useful for the business. The dashboard must entail the following: \n",
    "\n",
    "Country-wise analysis to demonstrate average spend. Use a bar chart to show the monthly figures\n",
    "\n",
    "Bar graph of top 15 products which are mostly ordered by the users to show the number of products sold\n",
    "\n",
    "Bar graph to show the count of orders vs. hours throughout the day\n",
    "\n",
    "Plot the distribution of RFM values using histogram and frequency charts\n",
    "\n",
    "Plot error (cost) vs. number of clusters selected\n",
    "\n",
    "Visualize to compare the RFM values of the clusters using heatmap"
   ]
  },
  {
   "cell_type": "code",
   "execution_count": 64,
   "id": "b472d2ed",
   "metadata": {},
   "outputs": [
    {
     "data": {
      "text/html": [
       "<div>\n",
       "<style scoped>\n",
       "    .dataframe tbody tr th:only-of-type {\n",
       "        vertical-align: middle;\n",
       "    }\n",
       "\n",
       "    .dataframe tbody tr th {\n",
       "        vertical-align: top;\n",
       "    }\n",
       "\n",
       "    .dataframe thead th {\n",
       "        text-align: right;\n",
       "    }\n",
       "</style>\n",
       "<table border=\"1\" class=\"dataframe\">\n",
       "  <thead>\n",
       "    <tr style=\"text-align: right;\">\n",
       "      <th></th>\n",
       "      <th>index</th>\n",
       "      <th>InvoiceNo</th>\n",
       "      <th>StockCode</th>\n",
       "      <th>Description</th>\n",
       "      <th>Quantity</th>\n",
       "      <th>InvoiceDate</th>\n",
       "      <th>UnitPrice</th>\n",
       "      <th>CustomerID</th>\n",
       "      <th>Country</th>\n",
       "      <th>month value</th>\n",
       "      <th>Amount</th>\n",
       "    </tr>\n",
       "  </thead>\n",
       "  <tbody>\n",
       "    <tr>\n",
       "      <th>0</th>\n",
       "      <td>99201</td>\n",
       "      <td>536365</td>\n",
       "      <td>84029G</td>\n",
       "      <td>KNITTED UNION FLAG HOT WATER BOTTLE</td>\n",
       "      <td>6</td>\n",
       "      <td>2010-12-01 08:26:00</td>\n",
       "      <td>3.39</td>\n",
       "      <td>17850.0</td>\n",
       "      <td>United Kingdom</td>\n",
       "      <td>2010-12</td>\n",
       "      <td>20.34</td>\n",
       "    </tr>\n",
       "    <tr>\n",
       "      <th>1</th>\n",
       "      <td>163173</td>\n",
       "      <td>536365</td>\n",
       "      <td>84406B</td>\n",
       "      <td>CREAM CUPID HEARTS COAT HANGER</td>\n",
       "      <td>8</td>\n",
       "      <td>2010-12-01 08:26:00</td>\n",
       "      <td>2.75</td>\n",
       "      <td>17850.0</td>\n",
       "      <td>United Kingdom</td>\n",
       "      <td>2010-12</td>\n",
       "      <td>22.00</td>\n",
       "    </tr>\n",
       "    <tr>\n",
       "      <th>2</th>\n",
       "      <td>81407</td>\n",
       "      <td>536365</td>\n",
       "      <td>71053</td>\n",
       "      <td>WHITE METAL LANTERN</td>\n",
       "      <td>6</td>\n",
       "      <td>2010-12-01 08:26:00</td>\n",
       "      <td>3.39</td>\n",
       "      <td>17850.0</td>\n",
       "      <td>United Kingdom</td>\n",
       "      <td>2010-12</td>\n",
       "      <td>20.34</td>\n",
       "    </tr>\n",
       "    <tr>\n",
       "      <th>3</th>\n",
       "      <td>86726</td>\n",
       "      <td>536365</td>\n",
       "      <td>85123A</td>\n",
       "      <td>WHITE HANGING HEART T-LIGHT HOLDER</td>\n",
       "      <td>6</td>\n",
       "      <td>2010-12-01 08:26:00</td>\n",
       "      <td>2.55</td>\n",
       "      <td>17850.0</td>\n",
       "      <td>United Kingdom</td>\n",
       "      <td>2010-12</td>\n",
       "      <td>15.30</td>\n",
       "    </tr>\n",
       "    <tr>\n",
       "      <th>4</th>\n",
       "      <td>267050</td>\n",
       "      <td>536365</td>\n",
       "      <td>22752</td>\n",
       "      <td>SET 7 BABUSHKA NESTING BOXES</td>\n",
       "      <td>2</td>\n",
       "      <td>2010-12-01 08:26:00</td>\n",
       "      <td>7.65</td>\n",
       "      <td>17850.0</td>\n",
       "      <td>United Kingdom</td>\n",
       "      <td>2010-12</td>\n",
       "      <td>15.30</td>\n",
       "    </tr>\n",
       "  </tbody>\n",
       "</table>\n",
       "</div>"
      ],
      "text/plain": [
       "    index InvoiceNo StockCode                          Description  Quantity  \\\n",
       "0   99201    536365    84029G  KNITTED UNION FLAG HOT WATER BOTTLE         6   \n",
       "1  163173    536365    84406B       CREAM CUPID HEARTS COAT HANGER         8   \n",
       "2   81407    536365     71053                  WHITE METAL LANTERN         6   \n",
       "3   86726    536365    85123A   WHITE HANGING HEART T-LIGHT HOLDER         6   \n",
       "4  267050    536365     22752         SET 7 BABUSHKA NESTING BOXES         2   \n",
       "\n",
       "          InvoiceDate  UnitPrice  CustomerID         Country month value  \\\n",
       "0 2010-12-01 08:26:00       3.39     17850.0  United Kingdom     2010-12   \n",
       "1 2010-12-01 08:26:00       2.75     17850.0  United Kingdom     2010-12   \n",
       "2 2010-12-01 08:26:00       3.39     17850.0  United Kingdom     2010-12   \n",
       "3 2010-12-01 08:26:00       2.55     17850.0  United Kingdom     2010-12   \n",
       "4 2010-12-01 08:26:00       7.65     17850.0  United Kingdom     2010-12   \n",
       "\n",
       "   Amount  \n",
       "0   20.34  \n",
       "1   22.00  \n",
       "2   20.34  \n",
       "3   15.30  \n",
       "4   15.30  "
      ]
     },
     "execution_count": 64,
     "metadata": {},
     "output_type": "execute_result"
    }
   ],
   "source": [
    "trainDF.head()"
   ]
  },
  {
   "cell_type": "code",
   "execution_count": 65,
   "id": "435b3802",
   "metadata": {},
   "outputs": [
    {
     "data": {
      "text/html": [
       "<div>\n",
       "<style scoped>\n",
       "    .dataframe tbody tr th:only-of-type {\n",
       "        vertical-align: middle;\n",
       "    }\n",
       "\n",
       "    .dataframe tbody tr th {\n",
       "        vertical-align: top;\n",
       "    }\n",
       "\n",
       "    .dataframe thead th {\n",
       "        text-align: right;\n",
       "    }\n",
       "</style>\n",
       "<table border=\"1\" class=\"dataframe\">\n",
       "  <thead>\n",
       "    <tr style=\"text-align: right;\">\n",
       "      <th></th>\n",
       "      <th>CustomerID</th>\n",
       "      <th>Recency</th>\n",
       "      <th>Frequency</th>\n",
       "      <th>Monetary</th>\n",
       "      <th>RS</th>\n",
       "      <th>FS</th>\n",
       "      <th>MS</th>\n",
       "      <th>Segment</th>\n",
       "      <th>RFM Score</th>\n",
       "      <th>Class</th>\n",
       "      <th>Sub Class</th>\n",
       "      <th>Cluster</th>\n",
       "    </tr>\n",
       "  </thead>\n",
       "  <tbody>\n",
       "    <tr>\n",
       "      <th>0</th>\n",
       "      <td>12346.0</td>\n",
       "      <td>325</td>\n",
       "      <td>2</td>\n",
       "      <td>0.00</td>\n",
       "      <td>1</td>\n",
       "      <td>1</td>\n",
       "      <td>1</td>\n",
       "      <td>111</td>\n",
       "      <td>3</td>\n",
       "      <td>Minor Customer</td>\n",
       "      <td>Lost</td>\n",
       "      <td>1</td>\n",
       "    </tr>\n",
       "    <tr>\n",
       "      <th>1</th>\n",
       "      <td>12347.0</td>\n",
       "      <td>2</td>\n",
       "      <td>132</td>\n",
       "      <td>3124.96</td>\n",
       "      <td>4</td>\n",
       "      <td>4</td>\n",
       "      <td>4</td>\n",
       "      <td>444</td>\n",
       "      <td>12</td>\n",
       "      <td>Best Customer</td>\n",
       "      <td>Recent</td>\n",
       "      <td>0</td>\n",
       "    </tr>\n",
       "    <tr>\n",
       "      <th>2</th>\n",
       "      <td>12348.0</td>\n",
       "      <td>75</td>\n",
       "      <td>20</td>\n",
       "      <td>1009.88</td>\n",
       "      <td>2</td>\n",
       "      <td>2</td>\n",
       "      <td>3</td>\n",
       "      <td>223</td>\n",
       "      <td>7</td>\n",
       "      <td>Average Customer</td>\n",
       "      <td>Almost Lost</td>\n",
       "      <td>2</td>\n",
       "    </tr>\n",
       "    <tr>\n",
       "      <th>3</th>\n",
       "      <td>12349.0</td>\n",
       "      <td>18</td>\n",
       "      <td>50</td>\n",
       "      <td>1344.17</td>\n",
       "      <td>3</td>\n",
       "      <td>3</td>\n",
       "      <td>4</td>\n",
       "      <td>334</td>\n",
       "      <td>10</td>\n",
       "      <td>Good Customer</td>\n",
       "      <td>Recent</td>\n",
       "      <td>2</td>\n",
       "    </tr>\n",
       "    <tr>\n",
       "      <th>4</th>\n",
       "      <td>12350.0</td>\n",
       "      <td>310</td>\n",
       "      <td>11</td>\n",
       "      <td>213.30</td>\n",
       "      <td>1</td>\n",
       "      <td>1</td>\n",
       "      <td>2</td>\n",
       "      <td>112</td>\n",
       "      <td>4</td>\n",
       "      <td>Minor Customer</td>\n",
       "      <td>Lost</td>\n",
       "      <td>1</td>\n",
       "    </tr>\n",
       "  </tbody>\n",
       "</table>\n",
       "</div>"
      ],
      "text/plain": [
       "   CustomerID  Recency  Frequency  Monetary RS FS MS Segment  RFM Score  \\\n",
       "0     12346.0      325          2      0.00  1  1  1     111          3   \n",
       "1     12347.0        2        132   3124.96  4  4  4     444         12   \n",
       "2     12348.0       75         20   1009.88  2  2  3     223          7   \n",
       "3     12349.0       18         50   1344.17  3  3  4     334         10   \n",
       "4     12350.0      310         11    213.30  1  1  2     112          4   \n",
       "\n",
       "              Class     Sub Class  Cluster  \n",
       "0    Minor Customer         Lost         1  \n",
       "1     Best Customer        Recent        0  \n",
       "2  Average Customer  Almost Lost         2  \n",
       "3     Good Customer        Recent        2  \n",
       "4    Minor Customer         Lost         1  "
      ]
     },
     "execution_count": 65,
     "metadata": {},
     "output_type": "execute_result"
    }
   ],
   "source": [
    "RFM_Model[\"Cluster\"]=KmeansModel[\"Cluster\"]\n",
    "RFM_Model.head()"
   ]
  },
  {
   "cell_type": "code",
   "execution_count": 66,
   "id": "ffe72aab",
   "metadata": {},
   "outputs": [
    {
     "data": {
      "text/html": [
       "<div>\n",
       "<style scoped>\n",
       "    .dataframe tbody tr th:only-of-type {\n",
       "        vertical-align: middle;\n",
       "    }\n",
       "\n",
       "    .dataframe tbody tr th {\n",
       "        vertical-align: top;\n",
       "    }\n",
       "\n",
       "    .dataframe thead th {\n",
       "        text-align: right;\n",
       "    }\n",
       "</style>\n",
       "<table border=\"1\" class=\"dataframe\">\n",
       "  <thead>\n",
       "    <tr style=\"text-align: right;\">\n",
       "      <th></th>\n",
       "      <th>0</th>\n",
       "    </tr>\n",
       "  </thead>\n",
       "  <tbody>\n",
       "    <tr>\n",
       "      <th>0</th>\n",
       "      <td>59824.394670</td>\n",
       "    </tr>\n",
       "    <tr>\n",
       "      <th>1</th>\n",
       "      <td>24904.811002</td>\n",
       "    </tr>\n",
       "    <tr>\n",
       "      <th>2</th>\n",
       "      <td>14307.732435</td>\n",
       "    </tr>\n",
       "    <tr>\n",
       "      <th>3</th>\n",
       "      <td>9318.861929</td>\n",
       "    </tr>\n",
       "    <tr>\n",
       "      <th>4</th>\n",
       "      <td>6216.297708</td>\n",
       "    </tr>\n",
       "    <tr>\n",
       "      <th>5</th>\n",
       "      <td>5295.987194</td>\n",
       "    </tr>\n",
       "    <tr>\n",
       "      <th>6</th>\n",
       "      <td>4481.189753</td>\n",
       "    </tr>\n",
       "    <tr>\n",
       "      <th>7</th>\n",
       "      <td>3920.606831</td>\n",
       "    </tr>\n",
       "    <tr>\n",
       "      <th>8</th>\n",
       "      <td>3665.157424</td>\n",
       "    </tr>\n",
       "    <tr>\n",
       "      <th>9</th>\n",
       "      <td>3456.059998</td>\n",
       "    </tr>\n",
       "  </tbody>\n",
       "</table>\n",
       "</div>"
      ],
      "text/plain": [
       "              0\n",
       "0  59824.394670\n",
       "1  24904.811002\n",
       "2  14307.732435\n",
       "3   9318.861929\n",
       "4   6216.297708\n",
       "5   5295.987194\n",
       "6   4481.189753\n",
       "7   3920.606831\n",
       "8   3665.157424\n",
       "9   3456.059998"
      ]
     },
     "execution_count": 66,
     "metadata": {},
     "output_type": "execute_result"
    }
   ],
   "source": [
    "wcss=pd.DataFrame(wcss)\n",
    "wcss"
   ]
  },
  {
   "cell_type": "code",
   "execution_count": 67,
   "id": "17568df7",
   "metadata": {},
   "outputs": [
    {
     "data": {
      "text/html": [
       "<div>\n",
       "<style scoped>\n",
       "    .dataframe tbody tr th:only-of-type {\n",
       "        vertical-align: middle;\n",
       "    }\n",
       "\n",
       "    .dataframe tbody tr th {\n",
       "        vertical-align: top;\n",
       "    }\n",
       "\n",
       "    .dataframe thead th {\n",
       "        text-align: right;\n",
       "    }\n",
       "</style>\n",
       "<table border=\"1\" class=\"dataframe\">\n",
       "  <thead>\n",
       "    <tr style=\"text-align: right;\">\n",
       "      <th></th>\n",
       "      <th>RS</th>\n",
       "      <th>FS</th>\n",
       "      <th>MS</th>\n",
       "      <th>RFM Score</th>\n",
       "      <th>Cluster</th>\n",
       "    </tr>\n",
       "  </thead>\n",
       "  <tbody>\n",
       "    <tr>\n",
       "      <th>0</th>\n",
       "      <td>1</td>\n",
       "      <td>1</td>\n",
       "      <td>1</td>\n",
       "      <td>3</td>\n",
       "      <td>1</td>\n",
       "    </tr>\n",
       "    <tr>\n",
       "      <th>1</th>\n",
       "      <td>4</td>\n",
       "      <td>4</td>\n",
       "      <td>4</td>\n",
       "      <td>12</td>\n",
       "      <td>0</td>\n",
       "    </tr>\n",
       "    <tr>\n",
       "      <th>2</th>\n",
       "      <td>2</td>\n",
       "      <td>2</td>\n",
       "      <td>3</td>\n",
       "      <td>7</td>\n",
       "      <td>2</td>\n",
       "    </tr>\n",
       "    <tr>\n",
       "      <th>3</th>\n",
       "      <td>3</td>\n",
       "      <td>3</td>\n",
       "      <td>4</td>\n",
       "      <td>10</td>\n",
       "      <td>2</td>\n",
       "    </tr>\n",
       "    <tr>\n",
       "      <th>4</th>\n",
       "      <td>1</td>\n",
       "      <td>1</td>\n",
       "      <td>2</td>\n",
       "      <td>4</td>\n",
       "      <td>1</td>\n",
       "    </tr>\n",
       "  </tbody>\n",
       "</table>\n",
       "</div>"
      ],
      "text/plain": [
       "  RS FS MS  RFM Score  Cluster\n",
       "0  1  1  1          3        1\n",
       "1  4  4  4         12        0\n",
       "2  2  2  3          7        2\n",
       "3  3  3  4         10        2\n",
       "4  1  1  2          4        1"
      ]
     },
     "execution_count": 67,
     "metadata": {},
     "output_type": "execute_result"
    }
   ],
   "source": [
    "KmeansModel.head()"
   ]
  },
  {
   "cell_type": "code",
   "execution_count": 68,
   "id": "e6c7d932",
   "metadata": {},
   "outputs": [],
   "source": [
    "with pd.ExcelWriter('output v2.xlsx') as writer:  \n",
    "    trainDF.to_excel(writer, sheet_name='Retail Data')\n",
    "    RFM_Model.to_excel(writer, sheet_name='RFM Model')\n",
    "    wcss.to_excel(writer, sheet_name='Elbow Curve Kmeans')"
   ]
  }
 ],
 "metadata": {
  "kernelspec": {
   "display_name": "Python 3 (ipykernel)",
   "language": "python",
   "name": "python3"
  },
  "language_info": {
   "codemirror_mode": {
    "name": "ipython",
    "version": 3
   },
   "file_extension": ".py",
   "mimetype": "text/x-python",
   "name": "python",
   "nbconvert_exporter": "python",
   "pygments_lexer": "ipython3",
   "version": "3.9.7"
  }
 },
 "nbformat": 4,
 "nbformat_minor": 5
}
